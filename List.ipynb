{
 "cells": [
  {
   "cell_type": "markdown",
   "id": "48eea3d1-7cbc-434e-b32a-a18293f96a98",
   "metadata": {},
   "source": [
    "# Lists in Python"
   ]
  },
  {
   "cell_type": "code",
   "execution_count": 3,
   "id": "67783945-9891-4f7c-87c3-237750430aa2",
   "metadata": {},
   "outputs": [],
   "source": [
    "l1=[1,2,True,'a',False]"
   ]
  },
  {
   "cell_type": "markdown",
   "id": "1724ea69-4112-4f1c-84ef-44d59018c913",
   "metadata": {},
   "source": [
    "### Lenght of Lists"
   ]
  },
  {
   "cell_type": "code",
   "execution_count": 4,
   "id": "d48bb344-1c0d-4328-a546-e1f1efa9b3f4",
   "metadata": {},
   "outputs": [
    {
     "data": {
      "text/plain": [
       "5"
      ]
     },
     "execution_count": 4,
     "metadata": {},
     "output_type": "execute_result"
    }
   ],
   "source": [
    "len(l1)"
   ]
  },
  {
   "cell_type": "markdown",
   "id": "7b90f4f9-320e-4825-8c25-e3d1d2c21c68",
   "metadata": {},
   "source": [
    "### Element at any index of Lists\n"
   ]
  },
  {
   "cell_type": "code",
   "execution_count": 6,
   "id": "828ce269-5291-41a2-875b-270e709c8ef2",
   "metadata": {},
   "outputs": [
    {
     "name": "stdout",
     "output_type": "stream",
     "text": [
      "False\n",
      "[2, 'a']\n"
     ]
    }
   ],
   "source": [
    "l1=[1,2,True,'a',False]\n",
    "print(l1[4])\n",
    "print(l1[1:4:2])"
   ]
  },
  {
   "cell_type": "markdown",
   "id": "f94d063d-c121-431e-a958-9726dff72c9d",
   "metadata": {},
   "source": [
    "### Range"
   ]
  },
  {
   "cell_type": "code",
   "execution_count": 7,
   "id": "f403aa99-090b-4fbb-a377-e978b792d7bd",
   "metadata": {},
   "outputs": [
    {
     "data": {
      "text/plain": [
       "[1, 2, True]"
      ]
     },
     "execution_count": 7,
     "metadata": {},
     "output_type": "execute_result"
    }
   ],
   "source": [
    "l1[0:3]"
   ]
  },
  {
   "cell_type": "markdown",
   "id": "9fb0ebb0-9601-4b9a-83a9-f4ec9ac27be0",
   "metadata": {},
   "source": [
    "### Changing the Element in List"
   ]
  },
  {
   "cell_type": "code",
   "execution_count": 9,
   "id": "1faee0fd-30a0-4db1-b572-643f676ccf76",
   "metadata": {},
   "outputs": [
    {
     "data": {
      "text/plain": [
       "[1, 2, 'Wajiha', 'a', False]"
      ]
     },
     "execution_count": 9,
     "metadata": {},
     "output_type": "execute_result"
    }
   ],
   "source": [
    "l1[2]=\"Wajiha\"\n",
    "l1"
   ]
  },
  {
   "cell_type": "markdown",
   "id": "1acf8ca2-b5a6-44da-ac06-e8750ea06270",
   "metadata": {},
   "source": [
    "### Concatinate / Merging the Lists"
   ]
  },
  {
   "cell_type": "code",
   "execution_count": 10,
   "id": "99d4c8da-4795-4fc4-8e6a-26fac4bb73ac",
   "metadata": {},
   "outputs": [
    {
     "data": {
      "text/plain": [
       "[1, 2, 'Wajiha', 'a', False, 3, 4, False, 'rehan']"
      ]
     },
     "execution_count": 10,
     "metadata": {},
     "output_type": "execute_result"
    }
   ],
   "source": [
    "l1=[1, 2, 'Wajiha', 'a', False]\n",
    "l2=[3,4,False,'rehan']\n",
    "\n",
    "l1+l2"
   ]
  },
  {
   "cell_type": "markdown",
   "id": "4f732c2b-4e96-4fee-9cd7-9bdbe353b4e4",
   "metadata": {},
   "source": [
    "### Replicating the Elements in List"
   ]
  },
  {
   "cell_type": "code",
   "execution_count": 11,
   "id": "acd99323-388e-41d3-8d86-59e096d9cefe",
   "metadata": {},
   "outputs": [
    {
     "data": {
      "text/plain": [
       "[3, 4, False, 'rehan', 3, 4, False, 'rehan', 3, 4, False, 'rehan']"
      ]
     },
     "execution_count": 11,
     "metadata": {},
     "output_type": "execute_result"
    }
   ],
   "source": [
    "l2*3"
   ]
  },
  {
   "cell_type": "code",
   "execution_count": 12,
   "id": "7cc6b2fb-fca0-431a-b943-3ca8e4ebb31b",
   "metadata": {},
   "outputs": [
    {
     "data": {
      "text/plain": [
       "[3, 4, False, 'rehan', 3, 4, False, 'rehan', 1, 2, 'Wajiha', 'a', False]"
      ]
     },
     "execution_count": 12,
     "metadata": {},
     "output_type": "execute_result"
    }
   ],
   "source": [
    "l2*2+l1"
   ]
  },
  {
   "cell_type": "code",
   "execution_count": 13,
   "id": "2c052a3d-1082-4c77-99eb-4ad9617078d6",
   "metadata": {},
   "outputs": [],
   "source": [
    "l3=[1,2,3,4]"
   ]
  },
  {
   "cell_type": "markdown",
   "id": "1dbbc85a-1f6d-4260-ae13-30b445cbf7d4",
   "metadata": {},
   "source": [
    "### Minimun Value in List"
   ]
  },
  {
   "cell_type": "code",
   "execution_count": 14,
   "id": "346c6dbe-79ca-4923-8f08-f9fd4153d084",
   "metadata": {},
   "outputs": [
    {
     "data": {
      "text/plain": [
       "1"
      ]
     },
     "execution_count": 14,
     "metadata": {},
     "output_type": "execute_result"
    }
   ],
   "source": [
    "min(l3)"
   ]
  },
  {
   "cell_type": "markdown",
   "id": "93ceec9d-46bc-4b85-87d1-c6fc7f4b63f7",
   "metadata": {},
   "source": [
    "### Maximun Value in List"
   ]
  },
  {
   "cell_type": "code",
   "execution_count": 15,
   "id": "3d27fccc-1073-4764-9c5d-f35cc22c7c43",
   "metadata": {},
   "outputs": [
    {
     "data": {
      "text/plain": [
       "4"
      ]
     },
     "execution_count": 15,
     "metadata": {},
     "output_type": "execute_result"
    }
   ],
   "source": [
    "max(l3)"
   ]
  },
  {
   "cell_type": "markdown",
   "id": "65020d20-f964-4de3-9e71-ffc62964f7a6",
   "metadata": {},
   "source": [
    "### Adding Value at last in List"
   ]
  },
  {
   "cell_type": "code",
   "execution_count": 15,
   "id": "b920b556-93ec-4743-8713-33550f3f38dd",
   "metadata": {},
   "outputs": [
    {
     "data": {
      "text/plain": [
       "[1, 2, 3, 4, 'Wajiha']"
      ]
     },
     "execution_count": 15,
     "metadata": {},
     "output_type": "execute_result"
    }
   ],
   "source": [
    "l3.append(\"Wajiha\")\n",
    "l3"
   ]
  },
  {
   "cell_type": "markdown",
   "id": "b805fe7b-a585-4f83-9495-309bb110d8ab",
   "metadata": {},
   "source": [
    "### Removing elements in list"
   ]
  },
  {
   "cell_type": "code",
   "execution_count": 16,
   "id": "232497aa-9cbb-4dbd-bf36-42d997dfdd70",
   "metadata": {},
   "outputs": [
    {
     "data": {
      "text/plain": [
       "[1, 2, 3, 4]"
      ]
     },
     "execution_count": 16,
     "metadata": {},
     "output_type": "execute_result"
    }
   ],
   "source": [
    "#removing  elemenet\n",
    "l3.pop()\n",
    "l3"
   ]
  },
  {
   "cell_type": "markdown",
   "id": "79a1e4e3-d303-4c50-b490-4976d22b02aa",
   "metadata": {},
   "source": [
    "### Reversing the list"
   ]
  },
  {
   "cell_type": "code",
   "execution_count": 17,
   "id": "0ac87d6b-dd52-4b63-aae0-b90b12a03c41",
   "metadata": {},
   "outputs": [
    {
     "data": {
      "text/plain": [
       "[False, 'a', 'Wajiha', 2, 1]"
      ]
     },
     "execution_count": 17,
     "metadata": {},
     "output_type": "execute_result"
    }
   ],
   "source": [
    "l1.reverse()\n",
    "l1"
   ]
  },
  {
   "cell_type": "markdown",
   "id": "ff38655f-0e9b-431b-aa54-a38b6f884fc8",
   "metadata": {},
   "source": [
    "### Insert in the list"
   ]
  },
  {
   "cell_type": "code",
   "execution_count": 25,
   "id": "d366e8d4-0a6a-4c40-8806-f2f9e6ca45ad",
   "metadata": {},
   "outputs": [
    {
     "data": {
      "text/plain": [
       "[1, 2]"
      ]
     },
     "execution_count": 25,
     "metadata": {},
     "output_type": "execute_result"
    }
   ],
   "source": [
    "l3.insert(1,2)\n",
    "l3"
   ]
  },
  {
   "cell_type": "markdown",
   "id": "50d178c2-39b7-4464-b186-7998b39c4272",
   "metadata": {},
   "source": [
    "### Sorting the list"
   ]
  },
  {
   "cell_type": "code",
   "execution_count": 18,
   "id": "01d2377a-46f6-4037-a065-3349bd1e266f",
   "metadata": {},
   "outputs": [
    {
     "data": {
      "text/plain": [
       "[2, 4, 5, 7, 32, 34, 664]"
      ]
     },
     "execution_count": 18,
     "metadata": {},
     "output_type": "execute_result"
    }
   ],
   "source": [
    "l4=[4,7,32,5,2,664,34]\n",
    "l4.sort()\n",
    "l4"
   ]
  },
  {
   "cell_type": "markdown",
   "id": "92485a6d-d502-444d-919b-5f5d488ffd2d",
   "metadata": {},
   "source": [
    "### Counting the list"
   ]
  },
  {
   "cell_type": "code",
   "execution_count": 14,
   "id": "2092e27a-f0b1-4409-bae9-1cd9fade05ab",
   "metadata": {},
   "outputs": [
    {
     "name": "stdout",
     "output_type": "stream",
     "text": [
      "2\n"
     ]
    }
   ],
   "source": [
    "l4=[4,7,32,5,2,66,2,4,34]\n",
    "print(l4.count(2))"
   ]
  },
  {
   "cell_type": "markdown",
   "id": "fdad9b99-5fe5-4802-bd97-b19352885dd1",
   "metadata": {},
   "source": [
    "### Copying the list"
   ]
  },
  {
   "cell_type": "code",
   "execution_count": 16,
   "id": "c625b00e-47eb-4674-a972-82df8caade6c",
   "metadata": {},
   "outputs": [
    {
     "name": "stdout",
     "output_type": "stream",
     "text": [
      "[4, 7, 32, 5, 2, 66, 2, 4, 34]\n"
     ]
    }
   ],
   "source": [
    "l4=[4,7,32,5,2,66,2,4,34]\n",
    "print(l4.copy())"
   ]
  },
  {
   "cell_type": "markdown",
   "id": "8941782f-f443-4473-92a6-371ed1978531",
   "metadata": {},
   "source": [
    "### Extending the list"
   ]
  },
  {
   "cell_type": "code",
   "execution_count": 23,
   "id": "a8a5e7ff-a736-4744-8b65-54a504385ae7",
   "metadata": {},
   "outputs": [
    {
     "name": "stdout",
     "output_type": "stream",
     "text": [
      "[4, 7, 32, 5, 2, 66, 2, 4, 34, 100, 200, 300]\n"
     ]
    }
   ],
   "source": [
    "l4=[4,7,32,5,2,66,2,4,34]\n",
    "l5=[100,200,300]\n",
    "l4.extend(l5)\n",
    "print(l4)"
   ]
  },
  {
   "cell_type": "markdown",
   "id": "48a21f5f-9629-498c-8d9a-7edd871bf98f",
   "metadata": {},
   "source": [
    "### List Comprehensions"
   ]
  },
  {
   "cell_type": "code",
   "execution_count": 8,
   "id": "98983ca4-2c9a-45ab-9814-15795fef12f7",
   "metadata": {},
   "outputs": [
    {
     "name": "stdout",
     "output_type": "stream",
     "text": [
      "['Milo', 'Bruno', 'Rosa']\n"
     ]
    }
   ],
   "source": [
    "names = [\"Milo\", \"Sarah\", \"Bruno\", \"Anastasia\", \"Rosa\"]\n",
    "namesWith_O = [item for item in names if \"o\" in item]\n",
    "print(namesWith_O)"
   ]
  }
 ],
 "metadata": {
  "kernelspec": {
   "display_name": "Python 3 (ipykernel)",
   "language": "python",
   "name": "python3"
  },
  "language_info": {
   "codemirror_mode": {
    "name": "ipython",
    "version": 3
   },
   "file_extension": ".py",
   "mimetype": "text/x-python",
   "name": "python",
   "nbconvert_exporter": "python",
   "pygments_lexer": "ipython3",
   "version": "3.11.7"
  }
 },
 "nbformat": 4,
 "nbformat_minor": 5
}
