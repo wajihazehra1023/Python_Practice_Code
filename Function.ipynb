{
 "cells": [
  {
   "cell_type": "markdown",
   "id": "d3c0d107-dd97-4283-9408-bf27c6473241",
   "metadata": {},
   "source": [
    "# Fuctions\n",
    ">#### User-defined function\n",
    ">#### Built-in Function\n",
    ">#### lambda Function\n",
    ">#### Arguments"
   ]
  },
  {
   "cell_type": "markdown",
   "id": "c2dd3068-3d8d-487a-b211-cf43300d1dcc",
   "metadata": {
    "jp-MarkdownHeadingCollapsed": true
   },
   "source": [
    "## User-defined Fuctions"
   ]
  },
  {
   "cell_type": "code",
   "execution_count": 1,
   "id": "59d6b007-da7d-4c64-9cc3-009dbaa5d0f8",
   "metadata": {},
   "outputs": [],
   "source": [
    "#Creating a Function\n",
    "def Greeting():\n",
    "    print(\"Hello\")"
   ]
  },
  {
   "cell_type": "code",
   "execution_count": 2,
   "id": "5589ae1d-1a6a-4f16-856f-dad73a48760a",
   "metadata": {},
   "outputs": [
    {
     "name": "stdout",
     "output_type": "stream",
     "text": [
      "Hello\n"
     ]
    }
   ],
   "source": [
    "# Calling a function\n",
    "Greeting()"
   ]
  },
  {
   "cell_type": "markdown",
   "id": "6c53ba52-096f-40b0-8175-547066e271f8",
   "metadata": {},
   "source": [
    "### Function with one Argument"
   ]
  },
  {
   "cell_type": "code",
   "execution_count": 4,
   "id": "6654d48d-78cc-464a-9a05-fd9b4c5b28f9",
   "metadata": {},
   "outputs": [],
   "source": [
    "def add10(x):\n",
    "    print(x+10)\n",
    "    "
   ]
  },
  {
   "cell_type": "code",
   "execution_count": 5,
   "id": "d9aa3076-26fc-4f89-8e6e-8ad8dcced5b2",
   "metadata": {},
   "outputs": [
    {
     "name": "stdout",
     "output_type": "stream",
     "text": [
      "15\n"
     ]
    }
   ],
   "source": [
    "add10(5)"
   ]
  },
  {
   "cell_type": "code",
   "execution_count": 31,
   "id": "2cad4e3d-fd56-4424-82c4-cc0681493f46",
   "metadata": {},
   "outputs": [
    {
     "name": "stdout",
     "output_type": "stream",
     "text": [
      "Even\n"
     ]
    }
   ],
   "source": [
    "#even odd\n",
    "def even_odd(num):\n",
    "    if num%2==0:\n",
    "        print(\"Even\")\n",
    "    else:\n",
    "        print(\"Odd\")\n",
    "even_odd(4)"
   ]
  },
  {
   "cell_type": "code",
   "execution_count": 16,
   "id": "f111c13b-8574-438f-827a-7c2bb36d3007",
   "metadata": {},
   "outputs": [],
   "source": [
    "#incomplete body of function shows error  if you want to skip that without any error use \"pass\"\n",
    "\n",
    "def add10(x):\n",
    "    pass\n"
   ]
  },
  {
   "cell_type": "markdown",
   "id": "07aebaa6-f502-466e-b4d4-bbcc11bb07a1",
   "metadata": {
    "jp-MarkdownHeadingCollapsed": true
   },
   "source": [
    "## Built-in Fuctions"
   ]
  },
  {
   "cell_type": "code",
   "execution_count": 21,
   "id": "69945bfb-d08c-46b2-a9e2-4a879c1ec698",
   "metadata": {},
   "outputs": [
    {
     "name": "stdin",
     "output_type": "stream",
     "text": [
      "Enter a number 234\n"
     ]
    },
    {
     "data": {
      "text/plain": [
       "'234'"
      ]
     },
     "execution_count": 21,
     "metadata": {},
     "output_type": "execute_result"
    }
   ],
   "source": [
    "input(\"Enter a number\")\n",
    "# list()\n",
    "# max()\n",
    "# min()\n",
    "# etcc......"
   ]
  },
  {
   "cell_type": "markdown",
   "id": "9837c8aa-2e62-4bab-a85e-43652d31fd0b",
   "metadata": {
    "jp-MarkdownHeadingCollapsed": true
   },
   "source": [
    "## Lambda Function"
   ]
  },
  {
   "cell_type": "code",
   "execution_count": 8,
   "id": "d9e78818-c126-43a2-9b49-83ebfd0682bb",
   "metadata": {},
   "outputs": [
    {
     "name": "stdout",
     "output_type": "stream",
     "text": [
      "27\n"
     ]
    }
   ],
   "source": [
    "y=lambda x:x*x*x\n",
    "print(y(3))"
   ]
  },
  {
   "cell_type": "code",
   "execution_count": 13,
   "id": "93b9dd4c-58be-4188-9bfc-3fbca62d7790",
   "metadata": {},
   "outputs": [
    {
     "name": "stdout",
     "output_type": "stream",
     "text": [
      "[15, 25, 35, 45]\n"
     ]
    }
   ],
   "source": [
    "#lambda for filter\n",
    "l1=[10,15,20,25,30,35,40,45,50]\n",
    "odd= list(filter(lambda x: (x%2 !=0 ),l1))\n",
    "print(odd)"
   ]
  },
  {
   "cell_type": "code",
   "execution_count": 15,
   "id": "5d19e5d2-38b9-45a7-8dc6-58c532e60048",
   "metadata": {},
   "outputs": [
    {
     "name": "stdout",
     "output_type": "stream",
     "text": [
      "[20, 30, 40, 50, 60, 70, 80, 90, 100]\n"
     ]
    }
   ],
   "source": [
    "#lambda for maps\n",
    "l1=[10,15,20,25,30,35,40,45,50]\n",
    "final_list= list(map(lambda x: (x*2 ),l1))\n",
    "print(final_list)\n"
   ]
  },
  {
   "cell_type": "code",
   "execution_count": 18,
   "id": "983c0f5c-bb3e-41a5-ba2d-44dfa3ed1348",
   "metadata": {},
   "outputs": [
    {
     "name": "stdout",
     "output_type": "stream",
     "text": [
      "175\n"
     ]
    }
   ],
   "source": [
    "#reduce list\n",
    "#part of functools and is imported from there\n",
    "from functools import reduce\n",
    "l1=[5,2,23,45,100]\n",
    "sum = reduce((lambda x,y: x+y),l1)\n",
    "print(sum)"
   ]
  },
  {
   "cell_type": "markdown",
   "id": "5a6eedc0-ff5b-4019-a037-8caf88793c02",
   "metadata": {},
   "source": [
    "## Argumemts"
   ]
  },
  {
   "cell_type": "markdown",
   "id": "09a21c28-963e-431e-9072-125ea763abb6",
   "metadata": {},
   "source": [
    ">##### Default argument\n",
    ">##### Keyword argument\n",
    ">##### Variable lenght argument\n",
    ">##### Required argument"
   ]
  },
  {
   "cell_type": "markdown",
   "id": "ae10c994-dc2b-4b33-a06d-85feb194a28e",
   "metadata": {},
   "source": [
    "### Required argument"
   ]
  },
  {
   "cell_type": "code",
   "execution_count": 44,
   "id": "7991516b-7bb9-46d6-bc6d-a9ea72195310",
   "metadata": {},
   "outputs": [
    {
     "name": "stdout",
     "output_type": "stream",
     "text": [
      "Average of the numbers is:  3.5\n"
     ]
    }
   ],
   "source": [
    "def average(a,b):\n",
    "    print(\"Average of the numbers is: \", (a+b)/2)\n",
    "#proper ordering and noo key value method  (a=22 ,b=3)\n",
    "average(3,4)"
   ]
  },
  {
   "cell_type": "markdown",
   "id": "ba5f0311-8024-4043-a362-71e829be36c8",
   "metadata": {
    "jp-MarkdownHeadingCollapsed": true
   },
   "source": [
    "### Default argument"
   ]
  },
  {
   "cell_type": "code",
   "execution_count": 45,
   "id": "4aaddb67-14a0-4c90-9cee-6eccba8eaa4d",
   "metadata": {},
   "outputs": [
    {
     "name": "stdout",
     "output_type": "stream",
     "text": [
      "Average of the numbers is:  6.5\n",
      "Average of the numbers is:  5.5\n",
      "Average of the numbers is:  5.0\n"
     ]
    }
   ],
   "source": [
    "#values are already defined in function\n",
    "\n",
    "def average(a=5,b=8):\n",
    "    print(\"Average of the numbers is: \", (a+b)/2)\n",
    "\n",
    "average()\n",
    "#changing one value from already defined in function\n",
    "\n",
    "def average(a=5,b=8):\n",
    "    print(\"Average of the numbers is: \", (a+b)/2)\n",
    "\n",
    "average(3)\n",
    "#changing both values from already defined in function\n",
    "\n",
    "def average(a=5,b=8):\n",
    "    print(\"Average of the numbers is: \", (a+b)/2)\n",
    "\n",
    "average(3, 7)"
   ]
  },
  {
   "cell_type": "markdown",
   "id": "1d5386a4-4866-4530-b0b4-c0a42596eeb0",
   "metadata": {
    "jp-MarkdownHeadingCollapsed": true
   },
   "source": [
    "### Keyword argument"
   ]
  },
  {
   "cell_type": "code",
   "execution_count": 46,
   "id": "9b62b9ca-9c99-4072-945d-6d4eb1f8ad6c",
   "metadata": {},
   "outputs": [
    {
     "name": "stdout",
     "output_type": "stream",
     "text": [
      "Average of the numbers is:  9.5\n",
      "10 9\n"
     ]
    }
   ],
   "source": [
    "def average(a=2,b=6):\n",
    "    print(\"Average of the numbers is: \", (a+b)/2)\n",
    "    print(a,b)\n",
    "# key value method  (a=22 ,b=3)\n",
    "#no order required\n",
    "average(b=9,a=10)"
   ]
  },
  {
   "cell_type": "markdown",
   "id": "0a31dd47-be80-4eff-ad45-410c1a217866",
   "metadata": {},
   "source": [
    "### Variable lenght argument"
   ]
  },
  {
   "cell_type": "markdown",
   "id": "d15a1455-5d7c-4a82-909f-91dfebbfe72e",
   "metadata": {},
   "source": [
    "#####  Arbitrary Arguments\n"
   ]
  },
  {
   "cell_type": "code",
   "execution_count": 61,
   "id": "e44a7a6e-b148-4697-ba61-d252554d7821",
   "metadata": {},
   "outputs": [
    {
     "name": "stdout",
     "output_type": "stream",
     "text": [
      "Average:  4.5\n",
      "Average:  90.0\n"
     ]
    }
   ],
   "source": [
    "def average(*numbers):\n",
    "    # print(type(numbers))\n",
    "# deals the argument as a tuple\n",
    "#can use many values\n",
    "    sum = 0\n",
    "    for i in numbers:\n",
    "        sum=sum+i\n",
    "    print(\"Average: \" , sum/len(numbers))\n",
    "\n",
    "average(4,5)\n",
    "average(80,90,100)"
   ]
  },
  {
   "cell_type": "markdown",
   "id": "80cc05ca-4bc3-4f46-bc18-ee712567eb1c",
   "metadata": {},
   "source": [
    "##### Keyword Arbitrary Arguments\n"
   ]
  },
  {
   "cell_type": "code",
   "execution_count": 69,
   "id": "a069d138-c7a5-4873-a222-0afb25a61502",
   "metadata": {},
   "outputs": [
    {
     "name": "stdout",
     "output_type": "stream",
     "text": [
      "The average of the numbers is: 20.0\n"
     ]
    }
   ],
   "source": [
    "def average(**numbers):\n",
    "    # print(type(numbers))\n",
    "# deals the argument as a dictionary\n",
    "#can use many values\n",
    "    total = 0\n",
    "    for i in numbers:\n",
    "        total = sum(numbers.values())\n",
    "        average_value = total / len(numbers)\n",
    "\n",
    "    print(\"The average of the numbers is:\", average_value)\n",
    "#argumnets in key value method.\n",
    "average(num1=10, num2=20, num3=30)"
   ]
  }
 ],
 "metadata": {
  "kernelspec": {
   "display_name": "Python 3 (ipykernel)",
   "language": "python",
   "name": "python3"
  },
  "language_info": {
   "codemirror_mode": {
    "name": "ipython",
    "version": 3
   },
   "file_extension": ".py",
   "mimetype": "text/x-python",
   "name": "python",
   "nbconvert_exporter": "python",
   "pygments_lexer": "ipython3",
   "version": "3.11.7"
  }
 },
 "nbformat": 4,
 "nbformat_minor": 5
}
