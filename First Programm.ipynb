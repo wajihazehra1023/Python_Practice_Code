{
 "cells": [
  {
   "cell_type": "markdown",
   "metadata": {
    "id": "IWEPmPuz-y3g"
   },
   "source": [
    "### Age Calculator"
   ]
  },
  {
   "cell_type": "code",
   "execution_count": null,
   "metadata": {
    "id": "AjmE72Ny-gDA"
   },
   "outputs": [],
   "source": [
    "birthYear = 2003\n",
    "age = 2024 - birthYear\n",
    "print(\"\")"
   ]
  },
  {
   "cell_type": "markdown",
   "metadata": {
    "id": "lNl7rbqw_GW5"
   },
   "source": [
    "### Taking Input"
   ]
  },
  {
   "cell_type": "code",
   "execution_count": null,
   "metadata": {
    "id": "Gs93VJLbBDdW"
   },
   "outputs": [],
   "source": [
    "year_of_birth = int(input(\"Enter your Birth Year: \"))\n",
    "age = 2024 - year_of_birth\n",
    "print(age)"
   ]
  },
  {
   "cell_type": "markdown",
   "metadata": {
    "id": "AbrAWT14ASo8"
   },
   "source": [
    "### Voter Eligiblity\n",
    "\n"
   ]
  },
  {
   "cell_type": "code",
   "execution_count": null,
   "metadata": {
    "colab": {
     "base_uri": "https://localhost:8080/"
    },
    "id": "TAacPjSMAS4l",
    "outputId": "49d8baa1-5be5-4342-c1b8-1e8e757efdaa"
   },
   "outputs": [
    {
     "name": "stdout",
     "output_type": "stream",
     "text": [
      "Enter your Age: 19\n",
      "you are :  True\n"
     ]
    }
   ],
   "source": [
    "age = int(input(\"Enter your Age: \"))\n",
    "eligiblity_criteria = 18\n",
    "eligible = age >= eligiblity_criteria\n",
    "print(\"you are : \",eligible)"
   ]
  },
  {
   "cell_type": "code",
   "execution_count": null,
   "metadata": {
    "colab": {
     "base_uri": "https://localhost:8080/",
     "height": 35
    },
    "id": "J66hQNUyB2It",
    "outputId": "6aab4b89-cd4c-4d50-f51f-eb15275a28e2"
   },
   "outputs": [
    {
     "data": {
      "application/vnd.google.colaboratory.intrinsic+json": {
       "type": "string"
      },
      "text/plain": [
       "'Hel'"
      ]
     },
     "execution_count": 7,
     "metadata": {},
     "output_type": "execute_result"
    }
   ],
   "source": [
    "greet = \"Hello\"\n",
    "greet[0:3]"
   ]
  }
 ],
 "metadata": {
  "colab": {
   "provenance": []
  },
  "kernelspec": {
   "display_name": "Python 3 (ipykernel)",
   "language": "python",
   "name": "python3"
  },
  "language_info": {
   "codemirror_mode": {
    "name": "ipython",
    "version": 3
   },
   "file_extension": ".py",
   "mimetype": "text/x-python",
   "name": "python",
   "nbconvert_exporter": "python",
   "pygments_lexer": "ipython3",
   "version": "3.11.7"
  }
 },
 "nbformat": 4,
 "nbformat_minor": 4
}
