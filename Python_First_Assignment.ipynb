{
 "cells": [
  {
   "cell_type": "markdown",
   "id": "b1e1eb95-14e2-4153-902f-d256daf0e91c",
   "metadata": {},
   "source": [
    "# First Assignment\n",
    "\n",
    ">#### Question No 1\n",
    ">#### Question No 2\n",
    ">#### Question No 3\n",
    ">#### Question No 4\n",
    ">#### Question No 5\n",
    ">#### Question No 6"
   ]
  },
  {
   "cell_type": "markdown",
   "id": "4ae6b0fe-9dac-4bf9-b809-7f54b9dd38d4",
   "metadata": {},
   "source": [
    "## Question No 1\n"
   ]
  },
  {
   "cell_type": "code",
   "execution_count": 1,
   "id": "c57d62c7-eefb-4cba-ab9f-da6dc258c5fa",
   "metadata": {},
   "outputs": [
    {
     "name": "stdin",
     "output_type": "stream",
     "text": [
      "Enter The tempreture in Celsius :  23\n"
     ]
    },
    {
     "name": "stdout",
     "output_type": "stream",
     "text": [
      "Celsius to Fahrenheit :  9.399999999999999\n"
     ]
    },
    {
     "name": "stdin",
     "output_type": "stream",
     "text": [
      "Enter The tempreture in fahrenheit :  9.3\n"
     ]
    },
    {
     "name": "stdout",
     "output_type": "stream",
     "text": [
      "fahrenheit to Celsius :  22.944444444444443\n"
     ]
    }
   ],
   "source": [
    "# converting celsius into fahrenheit\n",
    "Celsius = float(input(\"Enter The tempreture in Celsius : \"))\n",
    "convertintofahrenheite= Celsius * 1.8 - 32\n",
    "print(\"Celsius to Fahrenheit : \",convertintofahrenheite)\n",
    "\n",
    "#Converting fahrenheit into celsius\n",
    "Fahrenheit = float(input(\"Enter The tempreture in fahrenheit : \"))\n",
    "convertintocelsius = (Fahrenheit + 32) /1.8\n",
    "print(\"fahrenheit to Celsius : \",convertintocelsius)\n"
   ]
  },
  {
   "cell_type": "markdown",
   "id": "2c99a771-e3ab-4f43-a4c0-4818e249503c",
   "metadata": {},
   "source": [
    "## Question No 2"
   ]
  },
  {
   "cell_type": "code",
   "execution_count": 1,
   "id": "5ba36702-b38e-486d-8bde-f34294e88cf9",
   "metadata": {},
   "outputs": [
    {
     "name": "stdout",
     "output_type": "stream",
     "text": [
      "Login  Page \n"
     ]
    },
    {
     "name": "stdin",
     "output_type": "stream",
     "text": [
      "Your name :  Wajiha Zehra\n",
      "Enter password :  123\n"
     ]
    },
    {
     "name": "stdout",
     "output_type": "stream",
     "text": [
      "True\n"
     ]
    }
   ],
   "source": [
    "print(\"Login  Page \")\n",
    "name = str(input(\"Your name : \"))\n",
    "pas = int(input(\"Enter password : \"))\n",
    "User = name ==\"Wajiha Zehra\"  and pas == 123\n",
    "print(User)\n",
    "\n"
   ]
  },
  {
   "cell_type": "markdown",
   "id": "dfec48fb-8311-4e96-8265-99ab7e9babd6",
   "metadata": {},
   "source": [
    "## Question No 3\n"
   ]
  },
  {
   "cell_type": "code",
   "execution_count": 2,
   "id": "3ca39e60-24a3-48b2-8df5-c9d176bc18d7",
   "metadata": {},
   "outputs": [
    {
     "name": "stdin",
     "output_type": "stream",
     "text": [
      "Your name :  Wa\n",
      "Your Registration ID :  63992\n",
      "Your age :  23\n"
     ]
    },
    {
     "name": "stdout",
     "output_type": "stream",
     "text": [
      "The Assigment is completed by the student :  False\n"
     ]
    }
   ],
   "source": [
    "name = str(input(\"Your name : \"))\n",
    "reg = str(input(\"Your Registration ID : \"))\n",
    "age = int(input(\"Your age : \"))\n",
    "confirm = reg == 63992\n",
    "print(\"The Assigment is completed by the student : \",confirm)\n"
   ]
  },
  {
   "cell_type": "markdown",
   "id": "3b7e7fc1-84fd-4053-a302-bedc405dc8ce",
   "metadata": {},
   "source": [
    "## Question No 4\n"
   ]
  },
  {
   "cell_type": "code",
   "execution_count": 3,
   "id": "6455e55a-491d-45c4-b841-2e772ce2036f",
   "metadata": {},
   "outputs": [
    {
     "name": "stdin",
     "output_type": "stream",
     "text": [
      "Number of pages in the book :  200\n"
     ]
    },
    {
     "name": "stdout",
     "output_type": "stream",
     "text": [
      "Number of pages in book :  200\n",
      "Reading time as per page is :  400 Minutes\n"
     ]
    }
   ],
   "source": [
    "#book reading time\n",
    "\n",
    "num_pages = int(input(\"Number of pages in the book : \"))\n",
    "reading_time = num_pages * 2\n",
    "print(\"Number of pages in book : \", num_pages)\n",
    "print(\"Reading time as per page is : \",reading_time,\"Minutes\")"
   ]
  },
  {
   "cell_type": "markdown",
   "id": "d1d32565-4512-402c-bf1b-2c4000d3252b",
   "metadata": {},
   "source": [
    "## Question No 5\n"
   ]
  },
  {
   "cell_type": "code",
   "execution_count": 4,
   "id": "d376579b-62df-499a-9e32-ce5905cf4675",
   "metadata": {},
   "outputs": [
    {
     "name": "stdin",
     "output_type": "stream",
     "text": [
      "Price of item :  100\n"
     ]
    },
    {
     "name": "stdout",
     "output_type": "stream",
     "text": [
      "Orignal Price of the item :  100\n",
      "After Discount Price is :  90.0\n",
      "Discount You get on the item :  10.0\n"
     ]
    }
   ],
   "source": [
    "#Item discount\n",
    "\n",
    "orignal_price = int(input(\"Price of item : \"))\n",
    "discount = orignal_price/10\n",
    "final_price = orignal_price-discount\n",
    "print(\"Orignal Price of the item : \",orignal_price)\n",
    "print(\"After Discount Price is : \",final_price)\n",
    "print(\"Discount You get on the item : \", discount)\n",
    "\n"
   ]
  },
  {
   "cell_type": "markdown",
   "id": "d2e9fe16-fd62-468f-ba5d-90101e2c1957",
   "metadata": {},
   "source": [
    "## Question No 6"
   ]
  },
  {
   "cell_type": "code",
   "execution_count": 5,
   "id": "4803c5e6-86f6-40dd-8c4c-7d4a535cc8ca",
   "metadata": {},
   "outputs": [
    {
     "name": "stdin",
     "output_type": "stream",
     "text": [
      "Enter the lenght of rectangle  :  6\n",
      "Enter the width of rectangle :  5\n"
     ]
    },
    {
     "name": "stdout",
     "output_type": "stream",
     "text": [
      "Area OF Rectangle is :  30\n"
     ]
    }
   ],
   "source": [
    "# Area of rectangle\n",
    "lenght = int(input(\"Enter the lenght of rectangle  : \"))\n",
    "width = int(input(\"Enter the width of rectangle : \"))\n",
    "area = lenght*width\n",
    "print(\"Area OF Rectangle is : \",area)"
   ]
  },
  {
   "cell_type": "code",
   "execution_count": null,
   "id": "9f88e576-5f6f-4f3b-8866-a459bf1e1092",
   "metadata": {},
   "outputs": [],
   "source": []
  }
 ],
 "metadata": {
  "kernelspec": {
   "display_name": "Python 3 (ipykernel)",
   "language": "python",
   "name": "python3"
  },
  "language_info": {
   "codemirror_mode": {
    "name": "ipython",
    "version": 3
   },
   "file_extension": ".py",
   "mimetype": "text/x-python",
   "name": "python",
   "nbconvert_exporter": "python",
   "pygments_lexer": "ipython3",
   "version": "3.11.7"
  }
 },
 "nbformat": 4,
 "nbformat_minor": 5
}
