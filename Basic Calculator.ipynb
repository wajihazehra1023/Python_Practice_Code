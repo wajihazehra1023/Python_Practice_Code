{
 "cells": [
  {
   "cell_type": "markdown",
   "id": "041fcb85-d492-4a96-840a-aecfd639f3c4",
   "metadata": {},
   "source": [
    "# Operator in Basic Calculator for Two Numbers \n",
    ">### Addition\n",
    ">#### Substraction\n",
    ">#### Divison\n",
    ">#### Multiplication\n",
    ">#### Remainder (Modulus)\n",
    ">#### Round Off Division\n"
   ]
  },
  {
   "cell_type": "code",
   "execution_count": 1,
   "id": "e020ebc4-b0f4-4219-8c48-0a41138437ad",
   "metadata": {},
   "outputs": [
    {
     "name": "stdout",
     "output_type": "stream",
     "text": [
      "Calculator for Two Numbers\n",
      "Operators \n",
      "( + , - , / , * , % ,// )\n",
      "Press e button to end\n"
     ]
    },
    {
     "name": "stdin",
     "output_type": "stream",
     "text": [
      "Enter the operator :   +\n",
      "Enter any number:  34\n",
      "Enter any number:  45\n"
     ]
    },
    {
     "name": "stdout",
     "output_type": "stream",
     "text": [
      "79\n"
     ]
    },
    {
     "name": "stdin",
     "output_type": "stream",
     "text": [
      "Enter the operator :   -\n",
      "Enter any number:  90\n",
      "Enter any number:  56\n"
     ]
    },
    {
     "name": "stdout",
     "output_type": "stream",
     "text": [
      "34\n"
     ]
    },
    {
     "name": "stdin",
     "output_type": "stream",
     "text": [
      "Enter the operator :   /\n",
      "Enter any number:  45\n",
      "Enter any number:  3\n"
     ]
    },
    {
     "name": "stdout",
     "output_type": "stream",
     "text": [
      "15.0\n"
     ]
    },
    {
     "name": "stdin",
     "output_type": "stream",
     "text": [
      "Enter the operator :   *\n",
      "Enter any number:  3\n",
      "Enter any number:  16\n"
     ]
    },
    {
     "name": "stdout",
     "output_type": "stream",
     "text": [
      "48\n"
     ]
    },
    {
     "name": "stdin",
     "output_type": "stream",
     "text": [
      "Enter the operator :   %\n",
      "Enter any number:  77\n",
      "Enter any number:  3\n"
     ]
    },
    {
     "name": "stdout",
     "output_type": "stream",
     "text": [
      "2\n"
     ]
    },
    {
     "name": "stdin",
     "output_type": "stream",
     "text": [
      "Enter the operator :   //\n",
      "Enter any number:  65\n",
      "Enter any number:  4\n"
     ]
    },
    {
     "name": "stdout",
     "output_type": "stream",
     "text": [
      "16\n"
     ]
    },
    {
     "name": "stdin",
     "output_type": "stream",
     "text": [
      "Enter the operator :   ?\n",
      "Enter any number:  3\n",
      "Enter any number:  4\n"
     ]
    },
    {
     "name": "stdout",
     "output_type": "stream",
     "text": [
      "Syntax Error\n"
     ]
    },
    {
     "name": "stdin",
     "output_type": "stream",
     "text": [
      "Enter the operator :   e\n"
     ]
    },
    {
     "name": "stdout",
     "output_type": "stream",
     "text": [
      "End\n"
     ]
    }
   ],
   "source": [
    "print(\"Calculator for Two Numbers\")\n",
    "print(\"Operators \\n( + , - , / , * , % ,// )\")\n",
    "print(\"Press e button to end\")\n",
    "while True:\n",
    "    operator = str(input(\"Enter the operator :  \"))\n",
    "    if (operator == \"e\"):\n",
    "        print(\"End\")\n",
    "        break\n",
    "    elif (operator !=\"e\"):\n",
    "        a = int(input(\"Enter any number: \"))\n",
    "        b = int(input(\"Enter any number: \"))\n",
    "        if operator == '+':\n",
    "            print (a + b)\n",
    "        elif operator == '-':\n",
    "            print (a-b)\n",
    "        elif operator == '/':\n",
    "            print(a/b)\n",
    "        elif operator == '*':\n",
    "               print(a*b)\n",
    "        elif operator == '%':\n",
    "            print(a%b)\n",
    "        elif operator == '//':\n",
    "            print(a//b)\n",
    "        else:\n",
    "            print(\"Syntax Error\")  \n",
    "    "
   ]
  },
  {
   "cell_type": "code",
   "execution_count": null,
   "id": "2717350c-378e-47cb-afb2-025c12502721",
   "metadata": {},
   "outputs": [],
   "source": []
  }
 ],
 "metadata": {
  "kernelspec": {
   "display_name": "Python 3 (ipykernel)",
   "language": "python",
   "name": "python3"
  },
  "language_info": {
   "codemirror_mode": {
    "name": "ipython",
    "version": 3
   },
   "file_extension": ".py",
   "mimetype": "text/x-python",
   "name": "python",
   "nbconvert_exporter": "python",
   "pygments_lexer": "ipython3",
   "version": "3.11.7"
  }
 },
 "nbformat": 4,
 "nbformat_minor": 5
}
