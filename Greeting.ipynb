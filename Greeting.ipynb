{
 "cells": [
  {
   "cell_type": "markdown",
   "id": "947ece03-2e09-41ad-bd71-28d152bebc59",
   "metadata": {},
   "source": [
    "# Greeting Clock"
   ]
  },
  {
   "cell_type": "code",
   "execution_count": 53,
   "id": "620a28f3-ba82-4d6f-aacb-e7b41c9c5d91",
   "metadata": {},
   "outputs": [
    {
     "name": "stdout",
     "output_type": "stream",
     "text": [
      "24- Hours Format\n",
      "11:41:34\n",
      "Good Morning\n"
     ]
    }
   ],
   "source": [
    "import time\n",
    "print(\"24- Hours Format\")\n",
    "# funtion to get the time of the system\n",
    "timeofsystem = time.strftime('%H:%M:%S')\n",
    "print(timeofsystem)\n",
    "hour = int(time.strftime('%H'))\n",
    "# print(hour)\n",
    "# minutes = int(time.strftime('%M'))\n",
    "# print(minutes)\n",
    "# seconds = int(time.strftime('%S'))\n",
    "# print(seconds)\n",
    "# hour= int(input(\"Enter the Hour: \"))\n",
    "# minutes = int(input(\"Enter Minutes: \" ))\n",
    "# seconds = int(input(\"Enter Seconds: \" ))\n",
    "# print(\"Time: \", hour,\":\",minutes,\":\",seconds)\n",
    "if (hour >=0 and hour<12):\n",
    "    print(\"Good Morning\")\n",
    "elif(hour >=12 and hour<=17):\n",
    "    print(\"Good Evening\")\n",
    "elif(hour >17 and hour<=23):\n",
    "    print(\"Good Night\")\n",
    "else:\n",
    "    print(\"not Valid time\")\n",
    "#24 and 0 are same\n",
    "\n"
   ]
  },
  {
   "cell_type": "code",
   "execution_count": null,
   "id": "a17cb1b6-9b15-4c22-a04f-46a66fefa3d3",
   "metadata": {},
   "outputs": [],
   "source": []
  }
 ],
 "metadata": {
  "kernelspec": {
   "display_name": "Python 3 (ipykernel)",
   "language": "python",
   "name": "python3"
  },
  "language_info": {
   "codemirror_mode": {
    "name": "ipython",
    "version": 3
   },
   "file_extension": ".py",
   "mimetype": "text/x-python",
   "name": "python",
   "nbconvert_exporter": "python",
   "pygments_lexer": "ipython3",
   "version": "3.11.7"
  }
 },
 "nbformat": 4,
 "nbformat_minor": 5
}
