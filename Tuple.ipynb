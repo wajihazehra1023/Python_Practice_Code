{
 "cells": [
  {
   "cell_type": "markdown",
   "id": "248eb2a6-3d1e-4b7c-ac3f-b208d1b0319a",
   "metadata": {},
   "source": [
    "# Tuple\n",
    ">#### Type of Tuple\n",
    ">#### Indexing in Tuple\n",
    ">#### Count in Tuple\n",
    ">#### Range in Tuple\n",
    ">#### Concatenate / Merge in Tuple\n",
    ">#### Repeatitions of Tuple\n",
    ">#### Minimum Value in Tuple\n",
    ">#### Maximum Value in Tuple\n",
    ">#### Manipulating in Tuple"
   ]
  },
  {
   "cell_type": "code",
   "execution_count": 14,
   "id": "f1018d9d-c5fb-489d-959a-d0045dad4694",
   "metadata": {},
   "outputs": [
    {
     "data": {
      "text/plain": [
       "(1, 'a', True, 8, False, 'dc')"
      ]
     },
     "execution_count": 14,
     "metadata": {},
     "output_type": "execute_result"
    }
   ],
   "source": [
    "tup1=(1,'a',True,8,False,'dc')\n",
    "tup1"
   ]
  },
  {
   "cell_type": "markdown",
   "id": "9fadcbae-7629-45b3-9cee-c4cc36b580b4",
   "metadata": {},
   "source": [
    "### Type of Tuple"
   ]
  },
  {
   "cell_type": "code",
   "execution_count": 15,
   "id": "99be2edd-cdfa-4276-8392-dee68a266035",
   "metadata": {},
   "outputs": [
    {
     "data": {
      "text/plain": [
       "tuple"
      ]
     },
     "execution_count": 15,
     "metadata": {},
     "output_type": "execute_result"
    }
   ],
   "source": [
    "type(tup1)"
   ]
  },
  {
   "cell_type": "markdown",
   "id": "7a83e94e-56ec-4dc5-9386-404ba59e2117",
   "metadata": {},
   "source": [
    "### Indexing in Tuple"
   ]
  },
  {
   "cell_type": "code",
   "execution_count": 16,
   "id": "56f1b972-50e0-46bd-8423-db7a91f94052",
   "metadata": {},
   "outputs": [
    {
     "data": {
      "text/plain": [
       "False"
      ]
     },
     "execution_count": 16,
     "metadata": {},
     "output_type": "execute_result"
    }
   ],
   "source": [
    "tup1[4]"
   ]
  },
  {
   "cell_type": "markdown",
   "id": "928535c6-bb60-434c-9d63-f4ba721e2d47",
   "metadata": {},
   "source": [
    "### Counting in Tuple"
   ]
  },
  {
   "cell_type": "code",
   "execution_count": 3,
   "id": "7845a92a-5593-41b9-926d-7137b3e2fc52",
   "metadata": {},
   "outputs": [
    {
     "data": {
      "text/plain": [
       "2"
      ]
     },
     "execution_count": 3,
     "metadata": {},
     "output_type": "execute_result"
    }
   ],
   "source": [
    "tup1=(1,'a',3,4,4,3,9,True,8,False,'dc')\n",
    "\n",
    "tup1.count(4)"
   ]
  },
  {
   "cell_type": "markdown",
   "id": "1787d0b3-8a0d-406f-b70a-0b14a621ac32",
   "metadata": {},
   "source": [
    "### Range in Tuple"
   ]
  },
  {
   "cell_type": "code",
   "execution_count": 17,
   "id": "d778c53b-6bff-4de6-b836-7e1a90d2979a",
   "metadata": {},
   "outputs": [
    {
     "data": {
      "text/plain": [
       "(True, 8, False, 'dc')"
      ]
     },
     "execution_count": 17,
     "metadata": {},
     "output_type": "execute_result"
    }
   ],
   "source": [
    "tup1[2:7]"
   ]
  },
  {
   "cell_type": "code",
   "execution_count": 18,
   "id": "ce0350e6-8dba-4094-97d1-404f018b37ce",
   "metadata": {},
   "outputs": [
    {
     "ename": "TypeError",
     "evalue": "'tuple' object does not support item assignment",
     "output_type": "error",
     "traceback": [
      "\u001b[1;31m---------------------------------------------------------------------------\u001b[0m",
      "\u001b[1;31mTypeError\u001b[0m                                 Traceback (most recent call last)",
      "Cell \u001b[1;32mIn[18], line 1\u001b[0m\n\u001b[1;32m----> 1\u001b[0m tup1[\u001b[38;5;241m2\u001b[39m]\u001b[38;5;241m=\u001b[39m\u001b[38;5;124m'\u001b[39m\u001b[38;5;124mw\u001b[39m\u001b[38;5;124m'\u001b[39m\n",
      "\u001b[1;31mTypeError\u001b[0m: 'tuple' object does not support item assignment"
     ]
    }
   ],
   "source": [
    "tup1[2]='w'\n",
    "#immutable\n",
    "#items cants be changed"
   ]
  },
  {
   "cell_type": "code",
   "execution_count": 19,
   "id": "6ba5728a-c830-4c2f-8b4c-6e7869c24a1d",
   "metadata": {},
   "outputs": [],
   "source": [
    "tup2=(4,'s',False, 9)"
   ]
  },
  {
   "cell_type": "markdown",
   "id": "d59a5a30-0d3f-4ba9-b6a5-709910b4bb43",
   "metadata": {},
   "source": [
    "### Concatenate / Merge in Tuple\n"
   ]
  },
  {
   "cell_type": "code",
   "execution_count": 20,
   "id": "58cd6a2a-9fd5-4d34-b32f-54fb1e0c1ade",
   "metadata": {},
   "outputs": [
    {
     "data": {
      "text/plain": [
       "(1, 'a', True, 8, False, 'dc', 4, 's', False, 9)"
      ]
     },
     "execution_count": 20,
     "metadata": {},
     "output_type": "execute_result"
    }
   ],
   "source": [
    "tup1+tup2"
   ]
  },
  {
   "cell_type": "markdown",
   "id": "ea447b08-4e83-45b2-b2a4-f9f8fa0369e2",
   "metadata": {},
   "source": [
    "### Repeatitions of Tuple\n"
   ]
  },
  {
   "cell_type": "code",
   "execution_count": 21,
   "id": "32a2c65e-b2cb-4d5e-94fa-0902f7887518",
   "metadata": {},
   "outputs": [
    {
     "data": {
      "text/plain": [
       "(1,\n",
       " 'a',\n",
       " True,\n",
       " 8,\n",
       " False,\n",
       " 'dc',\n",
       " 1,\n",
       " 'a',\n",
       " True,\n",
       " 8,\n",
       " False,\n",
       " 'dc',\n",
       " 1,\n",
       " 'a',\n",
       " True,\n",
       " 8,\n",
       " False,\n",
       " 'dc',\n",
       " 1,\n",
       " 'a',\n",
       " True,\n",
       " 8,\n",
       " False,\n",
       " 'dc')"
      ]
     },
     "execution_count": 21,
     "metadata": {},
     "output_type": "execute_result"
    }
   ],
   "source": [
    "tup1*4"
   ]
  },
  {
   "cell_type": "code",
   "execution_count": 22,
   "id": "34f97f32-065a-4833-a47c-e485148ca6c1",
   "metadata": {},
   "outputs": [
    {
     "data": {
      "text/plain": [
       "(4,\n",
       " 's',\n",
       " False,\n",
       " 9,\n",
       " 4,\n",
       " 's',\n",
       " False,\n",
       " 9,\n",
       " 4,\n",
       " 's',\n",
       " False,\n",
       " 9,\n",
       " 1,\n",
       " 'a',\n",
       " True,\n",
       " 8,\n",
       " False,\n",
       " 'dc')"
      ]
     },
     "execution_count": 22,
     "metadata": {},
     "output_type": "execute_result"
    }
   ],
   "source": [
    "#repeat and merge\n",
    "tup2*3+tup1"
   ]
  },
  {
   "cell_type": "markdown",
   "id": "d29c8f1f-5f1e-44db-a0c0-d67877ecf58b",
   "metadata": {},
   "source": [
    "### Minimum Value in Tuple"
   ]
  },
  {
   "cell_type": "code",
   "execution_count": 12,
   "id": "a7e923e5-1721-405a-8124-22aebe70d981",
   "metadata": {},
   "outputs": [
    {
     "data": {
      "text/plain": [
       "1"
      ]
     },
     "execution_count": 12,
     "metadata": {},
     "output_type": "execute_result"
    }
   ],
   "source": [
    "#min value\n",
    "tup3=(1,2,3,4,5)\n",
    "min(tup3)"
   ]
  },
  {
   "cell_type": "markdown",
   "id": "c4b10af3-9c25-42b4-b2a2-db8cb82831ec",
   "metadata": {},
   "source": [
    "### Maximum Value in Tuple"
   ]
  },
  {
   "cell_type": "code",
   "execution_count": 13,
   "id": "2db74918-b0b5-4143-9c03-fe8e0b24c9c2",
   "metadata": {},
   "outputs": [
    {
     "data": {
      "text/plain": [
       "5"
      ]
     },
     "execution_count": 13,
     "metadata": {},
     "output_type": "execute_result"
    }
   ],
   "source": [
    "#max value\n",
    "max(tup3)"
   ]
  },
  {
   "cell_type": "markdown",
   "id": "3b7b941b-aa19-49d1-8592-0194ed24243a",
   "metadata": {},
   "source": [
    "### Manipulation in Tuple"
   ]
  },
  {
   "cell_type": "code",
   "execution_count": 9,
   "id": "6c27e743-4b1e-455f-8739-57c19585e16a",
   "metadata": {},
   "outputs": [
    {
     "name": "stdout",
     "output_type": "stream",
     "text": [
      "('Spain', 'Italy', 'Finland', 'Germany', 'Russia')\n"
     ]
    }
   ],
   "source": [
    "countries = (\"Spain\", \"Italy\", \"India\", \"England\", \"Germany\")\n",
    "#print(type(countries))\n",
    "#COnverting tuple in to list\n",
    "temp = list(countries)\n",
    "#print(type(temp))\n",
    "\n",
    "temp.append(\"Russia\")       #add item \n",
    "temp.pop(3)                 #remove item\n",
    "temp[2] = \"Finland\"         #change item\n",
    "#converting back to tuple\n",
    "countries = tuple(temp)\n",
    "#print(type(countries))\n",
    "print(countries)"
   ]
  },
  {
   "cell_type": "code",
   "execution_count": null,
   "id": "8a5aa4f7-60bb-41fd-8047-c93e5ab69a5f",
   "metadata": {},
   "outputs": [],
   "source": []
  }
 ],
 "metadata": {
  "kernelspec": {
   "display_name": "Python 3 (ipykernel)",
   "language": "python",
   "name": "python3"
  },
  "language_info": {
   "codemirror_mode": {
    "name": "ipython",
    "version": 3
   },
   "file_extension": ".py",
   "mimetype": "text/x-python",
   "name": "python",
   "nbconvert_exporter": "python",
   "pygments_lexer": "ipython3",
   "version": "3.11.7"
  }
 },
 "nbformat": 4,
 "nbformat_minor": 5
}
