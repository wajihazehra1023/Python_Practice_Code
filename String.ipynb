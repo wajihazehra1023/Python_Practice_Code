{
 "cells": [
  {
   "cell_type": "markdown",
   "id": "afb5f16a-7c3a-4a11-8b05-ba76bcc28570",
   "metadata": {},
   "source": [
    "# Content of String\n",
    ">#### From horizontal to vertical orientation of String\n",
    ">#### Lenght of String\n",
    ">#### Replacements in Strings\n",
    ">#### LowerCase\n",
    ">#### Repetitions\n",
    ">#### UpperCase\n",
    ">#### First Letter of String\n",
    ">#### Last Letter of String\n",
    ">#### Specific range of String\n",
    ">#### Index of String\n",
    ">#### Split String\n",
    ">#### Join to a String\n",
    ">#### Reversal of String\n",
    ">#### Remove Trailing Character\n",
    ">#### Captialization \n",
    ">#### Center Alignment\n",
    ">#### Ends with\n",
    ">#### Starts with\n",
    ">#### Alpha Numeric\n",
    ">#### Alphabetic\n",
    ">#### Checking if Lower Case\n",
    ">#### Checking if Upper Case\n",
    ">#### Swaping Cases Lower to Upper & Upper to Lower\n",
    ">#### Checking if Space\n",
    ">#### Checking if it a Title\n",
    ">#### Converting into Title"
   ]
  },
  {
   "cell_type": "markdown",
   "id": "0495b944-0313-4114-b6ab-03efb1b1b728",
   "metadata": {},
   "source": [
    "### From horizontal to vertical orientation of String"
   ]
  },
  {
   "cell_type": "code",
   "execution_count": 1,
   "id": "213861a7-f706-46c9-bbbd-4f01cb3ff2a8",
   "metadata": {},
   "outputs": [
    {
     "name": "stdin",
     "output_type": "stream",
     "text": [
      "Enter your name:  Wajiha Zehra\n"
     ]
    },
    {
     "name": "stdout",
     "output_type": "stream",
     "text": [
      "W\n",
      "a\n",
      "j\n",
      "i\n",
      "h\n",
      "a\n",
      " \n",
      "Z\n",
      "e\n",
      "h\n",
      "r\n",
      "a\n"
     ]
    }
   ],
   "source": [
    "name = str(input(\"Enter your name: \"))\n",
    "for character in name :\n",
    "    print(character)"
   ]
  },
  {
   "cell_type": "markdown",
   "id": "74d1d991-55fe-4225-80cf-3c54e807a15b",
   "metadata": {},
   "source": [
    "### Lenght of String"
   ]
  },
  {
   "cell_type": "code",
   "execution_count": 1,
   "id": "16699823-0cd2-4347-b545-d58085deea79",
   "metadata": {},
   "outputs": [
    {
     "data": {
      "text/plain": [
       "27"
      ]
     },
     "execution_count": 1,
     "metadata": {},
     "output_type": "execute_result"
    }
   ],
   "source": [
    "#lenght\n",
    "mystring = \"Hello World Hello Sun Hello\"\n",
    "\n",
    "len(mystring)\n"
   ]
  },
  {
   "cell_type": "markdown",
   "id": "71c3cdfe-502b-406f-ad84-6b60068f0f35",
   "metadata": {},
   "source": [
    "### Replacements in Strings"
   ]
  },
  {
   "cell_type": "code",
   "execution_count": 2,
   "id": "11420483-cbf6-4e69-a9d9-664ad788fa45",
   "metadata": {},
   "outputs": [
    {
     "data": {
      "text/plain": [
       "'Hello Wajiha Hello Sun Hello'"
      ]
     },
     "execution_count": 2,
     "metadata": {},
     "output_type": "execute_result"
    }
   ],
   "source": [
    "#replace\n",
    "mystring.replace(\"World\" , \"Wajiha\")"
   ]
  },
  {
   "cell_type": "markdown",
   "id": "3f5bd3eb-5044-4fc0-8e88-b4db8cbf6cd7",
   "metadata": {},
   "source": [
    "### UpperCase"
   ]
  },
  {
   "cell_type": "code",
   "execution_count": 3,
   "id": "ac1d795b-3778-4ecf-99d4-f61f705b9d62",
   "metadata": {},
   "outputs": [
    {
     "data": {
      "text/plain": [
       "'HELLO WORLD HELLO SUN HELLO'"
      ]
     },
     "execution_count": 3,
     "metadata": {},
     "output_type": "execute_result"
    }
   ],
   "source": [
    "#uppercase\n",
    "mystring.upper()"
   ]
  },
  {
   "cell_type": "markdown",
   "id": "67ca51f0-875d-4e3b-a154-9d091b526af0",
   "metadata": {},
   "source": [
    "### LowerCase"
   ]
  },
  {
   "cell_type": "code",
   "execution_count": 4,
   "id": "4fff895d-52b3-49a9-8545-9a2a9a43d608",
   "metadata": {},
   "outputs": [
    {
     "data": {
      "text/plain": [
       "'hello world hello sun hello'"
      ]
     },
     "execution_count": 4,
     "metadata": {},
     "output_type": "execute_result"
    }
   ],
   "source": [
    "#lower case\n",
    "mystring.lower()"
   ]
  },
  {
   "cell_type": "markdown",
   "id": "22dc091c-5683-41e8-8987-d01e85e3d9bf",
   "metadata": {},
   "source": [
    "### Repetitions"
   ]
  },
  {
   "cell_type": "code",
   "execution_count": 5,
   "id": "4b9dca8d-e106-46bf-a851-3052c082bdc2",
   "metadata": {},
   "outputs": [
    {
     "data": {
      "text/plain": [
       "3"
      ]
     },
     "execution_count": 5,
     "metadata": {},
     "output_type": "execute_result"
    }
   ],
   "source": [
    "#counting the repetation\n",
    "mystring.count(\"Hello\")"
   ]
  },
  {
   "cell_type": "markdown",
   "id": "6be79c92-74a9-405a-8538-ff173e9c59ef",
   "metadata": {},
   "source": [
    "### First Letter of String"
   ]
  },
  {
   "cell_type": "code",
   "execution_count": 6,
   "id": "b1996601-4887-4a9e-aa45-5662cea1c21f",
   "metadata": {},
   "outputs": [
    {
     "data": {
      "text/plain": [
       "'H'"
      ]
     },
     "execution_count": 6,
     "metadata": {},
     "output_type": "execute_result"
    }
   ],
   "source": [
    "#first letter of string\n",
    "mystring [0]"
   ]
  },
  {
   "cell_type": "markdown",
   "id": "87edda7c-e69e-4e66-bb61-f0eb76a6f168",
   "metadata": {},
   "source": [
    "### Last Letter of String"
   ]
  },
  {
   "cell_type": "code",
   "execution_count": 7,
   "id": "3d9044ba-97dd-4e6d-a03a-39523be57ba7",
   "metadata": {},
   "outputs": [
    {
     "data": {
      "text/plain": [
       "'o'"
      ]
     },
     "execution_count": 7,
     "metadata": {},
     "output_type": "execute_result"
    }
   ],
   "source": [
    "#last letter of string\n",
    "mystring[-1]"
   ]
  },
  {
   "cell_type": "markdown",
   "id": "e1cf5333-9f03-48b7-9081-585418f7d81b",
   "metadata": {},
   "source": [
    "### Specific range of String"
   ]
  },
  {
   "cell_type": "code",
   "execution_count": 11,
   "id": "67657f0d-a60e-4447-8397-4ede6c8bac3b",
   "metadata": {},
   "outputs": [
    {
     "data": {
      "text/plain": [
       "'Hello World'"
      ]
     },
     "execution_count": 11,
     "metadata": {},
     "output_type": "execute_result"
    }
   ],
   "source": [
    "#range you want to print\n",
    "#last range is not included \n",
    "#for getting last world use one number more then total numbers or use -1\n",
    "mystring[0:11]"
   ]
  },
  {
   "cell_type": "markdown",
   "id": "fdc5b8a7-1f7a-4bda-96f9-173ed58ce2c1",
   "metadata": {},
   "source": [
    "### Index of String"
   ]
  },
  {
   "cell_type": "code",
   "execution_count": 12,
   "id": "8265b48c-87e2-4fcb-bc8b-97f1eed6e75c",
   "metadata": {},
   "outputs": [
    {
     "data": {
      "text/plain": [
       "6"
      ]
     },
     "execution_count": 12,
     "metadata": {},
     "output_type": "execute_result"
    }
   ],
   "source": [
    "#Index\n",
    "mystring.find('World')\n"
   ]
  },
  {
   "cell_type": "markdown",
   "id": "cf8d9195-06e2-4b1d-a37e-8b51bbd69cc1",
   "metadata": {},
   "source": [
    "### Split String"
   ]
  },
  {
   "cell_type": "code",
   "execution_count": 3,
   "id": "2d3fa982-791e-4024-bdd1-1cac7b3dab45",
   "metadata": {},
   "outputs": [
    {
     "data": {
      "text/plain": [
       "['i love mangoes', 'apples', 'melon']"
      ]
     },
     "execution_count": 3,
     "metadata": {},
     "output_type": "execute_result"
    }
   ],
   "source": [
    "#Split\n",
    "senten =\"i love mangoes and apples and melon\"\n",
    "senten.split(' and ')"
   ]
  },
  {
   "cell_type": "markdown",
   "id": "9d62d4e5-366b-4218-8c4b-c08b7d7ebcc9",
   "metadata": {},
   "source": [
    "### Join to a String"
   ]
  },
  {
   "cell_type": "code",
   "execution_count": 14,
   "id": "e0713812-1455-4920-b6fa-6daf51b1ad0d",
   "metadata": {},
   "outputs": [
    {
     "name": "stdout",
     "output_type": "stream",
     "text": [
      "I am Wajiha Zehra\n"
     ]
    }
   ],
   "source": [
    "#Form a sentence by words\n",
    "words=[\"I\", \"am\", \"Wajiha\", \"Zehra\" ]\n",
    "sentence=\" \".join(words)\n",
    "print(sentence)"
   ]
  },
  {
   "cell_type": "markdown",
   "id": "bf010a61-9102-4993-8a5c-f10ddc295525",
   "metadata": {},
   "source": [
    "### Reversal of String"
   ]
  },
  {
   "cell_type": "code",
   "execution_count": 15,
   "id": "61121e6f-5d26-438b-93f9-8083edcfe349",
   "metadata": {},
   "outputs": [
    {
     "name": "stdin",
     "output_type": "stream",
     "text": [
      "Enter any sentence:  i am hungry\n"
     ]
    },
    {
     "name": "stdout",
     "output_type": "stream",
     "text": [
      "hungry am i\n"
     ]
    }
   ],
   "source": [
    "string = str(input(\"Enter any sentence: \"))\n",
    "a=string.split()\n",
    "a=a[-1: :-1]\n",
    "reversed_string = \" \".join(a)\n",
    "print(reversed_string)"
   ]
  },
  {
   "cell_type": "markdown",
   "id": "3e9257c4-9a43-4104-ab3e-277208caba5d",
   "metadata": {},
   "source": [
    "### Remove Trailing Character\n"
   ]
  },
  {
   "cell_type": "code",
   "execution_count": 2,
   "id": "c31043a4-2980-4ccb-b9f3-8712400b98dd",
   "metadata": {},
   "outputs": [
    {
     "name": "stdout",
     "output_type": "stream",
     "text": [
      "Wajiha\n"
     ]
    }
   ],
   "source": [
    "string = \"Wajiha......\"\n",
    "print (string.rstrip(\".\"))"
   ]
  },
  {
   "cell_type": "markdown",
   "id": "cd320d2b-3d62-4319-be17-79b4a84cac0f",
   "metadata": {},
   "source": [
    "### Captialization "
   ]
  },
  {
   "cell_type": "code",
   "execution_count": 6,
   "id": "400b29e3-a853-4091-b0d4-438a68a8fc2b",
   "metadata": {},
   "outputs": [
    {
     "name": "stdout",
     "output_type": "stream",
     "text": [
      "I love mangoes and apples and melon\n"
     ]
    }
   ],
   "source": [
    "sentence =\"i love mAngoes and aPPles and MElon\"\n",
    "print(sentence.capitalize())"
   ]
  },
  {
   "cell_type": "markdown",
   "id": "0ef6191a-ee17-4ee2-ba87-f69f32a90735",
   "metadata": {},
   "source": [
    "### Center Alignment"
   ]
  },
  {
   "cell_type": "code",
   "execution_count": 21,
   "id": "e9138258-ef17-4bf6-8026-4a2550124e8e",
   "metadata": {},
   "outputs": [
    {
     "name": "stdout",
     "output_type": "stream",
     "text": [
      "                                                         I love mangoes and apples and melon                                                          \n",
      "35\n",
      "150\n"
     ]
    }
   ],
   "source": [
    "sentence =\"I love mangoes and apples and melon\"\n",
    "print(sentence.center(150))\n",
    "#need to give a paramenter for the position\n",
    "# len(sentence.center(150)\n",
    "print(len(sentence))\n",
    "print(len(sentence.center(150)))\n",
    "\n"
   ]
  },
  {
   "cell_type": "markdown",
   "id": "a61a8de7-37f2-4e81-8266-51597255c83d",
   "metadata": {},
   "source": [
    "### Ends with"
   ]
  },
  {
   "cell_type": "code",
   "execution_count": 8,
   "id": "fcf45268-e673-4c9e-ae84-aeaf0629b4f2",
   "metadata": {},
   "outputs": [
    {
     "name": "stdout",
     "output_type": "stream",
     "text": [
      "False\n",
      "True\n"
     ]
    }
   ],
   "source": [
    "sentence =\"I love mangoes and apples and melon\"\n",
    "print(sentence.endswith(\".\"))\n",
    "print(sentence.endswith(\"love\" ,0, 6))\n",
    "#2: 5 is love"
   ]
  },
  {
   "cell_type": "markdown",
   "id": "762b1123-0a54-44b5-8c92-e18fafd4784b",
   "metadata": {},
   "source": [
    "### Starts with"
   ]
  },
  {
   "cell_type": "code",
   "execution_count": 9,
   "id": "fa654e0c-f83b-4e76-b9e3-8bcbfe248639",
   "metadata": {},
   "outputs": [
    {
     "name": "stdout",
     "output_type": "stream",
     "text": [
      "False\n",
      "True\n"
     ]
    }
   ],
   "source": [
    "sentence =\"I love mangoes and apples and melon\"\n",
    "print(sentence.startswith(\".\"))\n",
    "print(sentence.startswith(\"I\" ))\n"
   ]
  },
  {
   "cell_type": "markdown",
   "id": "0cba8350-e185-435a-bf55-495485583be0",
   "metadata": {},
   "source": [
    "### Alpha Numeric"
   ]
  },
  {
   "cell_type": "code",
   "execution_count": 28,
   "id": "7edc94bc-dff4-4b59-89f4-6d10ad22a867",
   "metadata": {},
   "outputs": [
    {
     "name": "stdout",
     "output_type": "stream",
     "text": [
      "False\n",
      "True\n"
     ]
    }
   ],
   "source": [
    "sentence =\"I love mangoes and apples and melon\"\n",
    "print(sentence.isalnum())\n",
    "#spacing are not aplhanum\n",
    "sentence1 =\"Ilovemangoesandapplesandmelon\"\n",
    "print(sentence1.isalnum())\n"
   ]
  },
  {
   "cell_type": "markdown",
   "id": "3a82d4e7-eb36-4ada-a71c-f1f8f890b700",
   "metadata": {},
   "source": [
    "### Alphabetic"
   ]
  },
  {
   "cell_type": "code",
   "execution_count": 31,
   "id": "2f4dff93-c9b8-48c9-9fb3-e9539410f111",
   "metadata": {},
   "outputs": [
    {
     "name": "stdout",
     "output_type": "stream",
     "text": [
      "False\n",
      "True\n",
      "False\n"
     ]
    }
   ],
   "source": [
    "sentence =\"I love mangoes and apples and melon\"\n",
    "print(sentence.isalpha())\n",
    "#spacing are not aplhanum\n",
    "sentence1 =\"Ilovemangoesandapplesandmelon\"\n",
    "print(sentence1.isalpha())\n",
    "sentence2 =\"Ilovemangoesandapplesandmelon123\"\n",
    "print(sentence2.isalpha())\n"
   ]
  },
  {
   "cell_type": "markdown",
   "id": "7d4d6776-d557-4f53-8484-2fa6a9dc0c15",
   "metadata": {},
   "source": [
    "### Checking if Lower Case"
   ]
  },
  {
   "cell_type": "code",
   "execution_count": 33,
   "id": "e119b079-7368-4de3-9fc7-fa45a4de907c",
   "metadata": {},
   "outputs": [
    {
     "name": "stdout",
     "output_type": "stream",
     "text": [
      "False\n",
      "True\n"
     ]
    }
   ],
   "source": [
    "sentence =\"I love mangoes and apples and melon\"\n",
    "print(sentence.islower())\n",
    "sentence1 =\"i love mangoes and apples and melon\"\n",
    "print(sentence1.islower())\n"
   ]
  },
  {
   "cell_type": "markdown",
   "id": "d30144b5-20a7-4174-b15e-213687bb106f",
   "metadata": {},
   "source": [
    "### Checking if Upper Case"
   ]
  },
  {
   "cell_type": "code",
   "execution_count": 34,
   "id": "daa822fc-3ee0-42d4-9061-7c9cf055d4c2",
   "metadata": {},
   "outputs": [
    {
     "name": "stdout",
     "output_type": "stream",
     "text": [
      "False\n",
      "True\n"
     ]
    }
   ],
   "source": [
    "sentence =\"I love mangoes and apples and melon\"\n",
    "print(sentence.isupper())\n",
    "sentence1 =\" I LOVE MANGOES\"\n",
    "print(sentence1.isupper())\n"
   ]
  },
  {
   "cell_type": "markdown",
   "id": "27fb1d1d-12db-4a9d-9e40-2f39de20f6fa",
   "metadata": {},
   "source": [
    "### Swaping Cases Lower to Upper & Upper to Lower"
   ]
  },
  {
   "cell_type": "code",
   "execution_count": 11,
   "id": "e8b88e3b-b65f-4269-a2b3-6c0704657c35",
   "metadata": {},
   "outputs": [
    {
     "name": "stdout",
     "output_type": "stream",
     "text": [
      "ILOVE MANGOES AND APPLES AND MELON\n",
      " i love mangoes\n"
     ]
    }
   ],
   "source": [
    "sentence =\"ilove mangoes and apples and melon\"\n",
    "print(sentence.swapcase())\n",
    "sentence1 =\" I LOVE MANGOES\"\n",
    "print(sentence1.swapcase())\n"
   ]
  },
  {
   "cell_type": "markdown",
   "id": "69b02d68-6b0f-46b2-bc3b-161c3d3821bb",
   "metadata": {},
   "source": [
    "### Checking if Space"
   ]
  },
  {
   "cell_type": "code",
   "execution_count": 12,
   "id": "d8d4487c-d35c-43bb-b1bd-4a381b369550",
   "metadata": {},
   "outputs": [
    {
     "name": "stdout",
     "output_type": "stream",
     "text": [
      "False\n",
      "True\n"
     ]
    }
   ],
   "source": [
    "sentence =\"I love mangoes and apples and melon\"\n",
    "print(sentence.isspace())\n",
    "sentence1 =\"         \"\n",
    "print(sentence1.isspace())\n"
   ]
  },
  {
   "cell_type": "markdown",
   "id": "53afc188-c18f-42ba-a6f8-e62dbfd99bba",
   "metadata": {},
   "source": [
    "### Checking if it a Title"
   ]
  },
  {
   "cell_type": "code",
   "execution_count": 15,
   "id": "980d993b-b778-4a85-82ee-1e92103ce93a",
   "metadata": {},
   "outputs": [
    {
     "name": "stdout",
     "output_type": "stream",
     "text": [
      "False\n",
      "True\n"
     ]
    }
   ],
   "source": [
    "sentence =\"I love mangoes and apples and melon\"\n",
    "print(sentence.istitle())\n",
    "sentence1 =\" I Love Mangoes\"\n",
    "print(sentence1.istitle())\n",
    "#first letter of every word is capital\n"
   ]
  },
  {
   "cell_type": "markdown",
   "id": "d419674a-1083-4899-9209-c1ef150e9d89",
   "metadata": {},
   "source": [
    "### Converting into Title"
   ]
  },
  {
   "cell_type": "code",
   "execution_count": 16,
   "id": "0746bb6a-55d2-4be4-9397-8e0d60adfcce",
   "metadata": {},
   "outputs": [
    {
     "name": "stdout",
     "output_type": "stream",
     "text": [
      "I Love Mangoes And Apples And Melon\n"
     ]
    }
   ],
   "source": [
    "sentence =\"I love mangoes and apples and melon\"\n",
    "print(sentence.title())\n"
   ]
  }
 ],
 "metadata": {
  "kernelspec": {
   "display_name": "Python 3 (ipykernel)",
   "language": "python",
   "name": "python3"
  },
  "language_info": {
   "codemirror_mode": {
    "name": "ipython",
    "version": 3
   },
   "file_extension": ".py",
   "mimetype": "text/x-python",
   "name": "python",
   "nbconvert_exporter": "python",
   "pygments_lexer": "ipython3",
   "version": "3.11.7"
  }
 },
 "nbformat": 4,
 "nbformat_minor": 5
}
