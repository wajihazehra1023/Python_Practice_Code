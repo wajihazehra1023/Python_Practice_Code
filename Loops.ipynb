{
 "cells": [
  {
   "cell_type": "markdown",
   "id": "c1e184cc-5057-4f08-834c-b3bb2d1aaddc",
   "metadata": {},
   "source": [
    "# Loops In Python\n",
    ">### While loop\n",
    ">### For loop\n",
    ">### Do - while loop\n",
    ">### Break and continue"
   ]
  },
  {
   "cell_type": "markdown",
   "id": "4bde8815-26e0-414c-bd41-0c7e106eec49",
   "metadata": {},
   "source": [
    "### While Loop"
   ]
  },
  {
   "cell_type": "code",
   "execution_count": 18,
   "id": "1b063ff1-b157-4f42-a0af-455c96a5110a",
   "metadata": {},
   "outputs": [
    {
     "name": "stdout",
     "output_type": "stream",
     "text": [
      "Desending Order\n",
      "0\n",
      "1\n",
      "2\n",
      "3\n",
      "4\n",
      "5\n",
      "Desending Order\n",
      "5\n",
      "4\n",
      "3\n",
      "2\n",
      "1\n",
      "0\n"
     ]
    }
   ],
   "source": [
    "#increasing\n",
    "print(\"Desending Order\")\n",
    "i=0\n",
    "while i<=5:\n",
    "    print(i)\n",
    "    i=i+1\n",
    "#decreasing\n",
    "print(\"Desending Order\")\n",
    "i=5\n",
    "while i>=0:\n",
    "    print(i)\n",
    "    i=i-1"
   ]
  },
  {
   "cell_type": "code",
   "execution_count": 2,
   "id": "d70689d8-fdb0-4329-8ea0-4e8bce6f5b09",
   "metadata": {},
   "outputs": [
    {
     "name": "stdout",
     "output_type": "stream",
     "text": [
      "2 * 1 = 2\n",
      "2 * 2 = 4\n",
      "2 * 3 = 6\n",
      "2 * 4 = 8\n",
      "2 * 5 = 10\n",
      "2 * 6 = 12\n",
      "2 * 7 = 14\n",
      "2 * 8 = 16\n",
      "2 * 9 = 18\n",
      "2 * 10 = 20\n"
     ]
    }
   ],
   "source": [
    "#table of 2\n",
    "i=1\n",
    "n=2\n",
    "while i<=10:\n",
    "    print(n,'*',i ,\"=\", n*i)\n",
    "    i=i+1"
   ]
  },
  {
   "cell_type": "code",
   "execution_count": 20,
   "id": "99093c58-3db7-4551-8f0b-ef3ada86b862",
   "metadata": {},
   "outputs": [
    {
     "name": "stdin",
     "output_type": "stream",
     "text": [
      "Enter a Number for Table:  7\n"
     ]
    },
    {
     "name": "stdout",
     "output_type": "stream",
     "text": [
      "7 * 1 = 7\n",
      "7 * 2 = 14\n",
      "7 * 3 = 21\n",
      "7 * 4 = 28\n",
      "7 * 5 = 35\n",
      "7 * 6 = 42\n",
      "7 * 7 = 49\n",
      "7 * 8 = 56\n",
      "7 * 9 = 63\n",
      "7 * 10 = 70\n"
     ]
    }
   ],
   "source": [
    "#table of desired number\n",
    "i=1\n",
    "n=int(input(\"Enter a Number for Table: \"))\n",
    "while i<=10:\n",
    "    print(n,'*',i ,\"=\", n*i)\n",
    "    i=i+1"
   ]
  },
  {
   "cell_type": "code",
   "execution_count": 3,
   "id": "be6a2dca-e1e1-4bd9-9f4f-9c1b93cac860",
   "metadata": {},
   "outputs": [
    {
     "name": "stdin",
     "output_type": "stream",
     "text": [
      "Enter a number: 3\n"
     ]
    },
    {
     "name": "stdout",
     "output_type": "stream",
     "text": [
      "3\n"
     ]
    },
    {
     "name": "stdin",
     "output_type": "stream",
     "text": [
      "Enter a number: 30\n"
     ]
    },
    {
     "name": "stdout",
     "output_type": "stream",
     "text": [
      "30\n"
     ]
    },
    {
     "name": "stdin",
     "output_type": "stream",
     "text": [
      "Enter a number: 21\n"
     ]
    },
    {
     "name": "stdout",
     "output_type": "stream",
     "text": [
      "21\n"
     ]
    },
    {
     "name": "stdin",
     "output_type": "stream",
     "text": [
      "Enter a number: 31\n"
     ]
    },
    {
     "name": "stdout",
     "output_type": "stream",
     "text": [
      "31\n"
     ]
    }
   ],
   "source": [
    "# input till the output in 30\n",
    "i=1\n",
    "while i<=30:\n",
    "    i = int(input(\"Enter a number:\"))\n",
    "    print(i)"
   ]
  },
  {
   "cell_type": "markdown",
   "id": "bbd1cf23-c8ba-4da0-9eac-ac7b54eccf3c",
   "metadata": {
    "jp-MarkdownHeadingCollapsed": true
   },
   "source": [
    "#### While Loop and else condition"
   ]
  },
  {
   "cell_type": "code",
   "execution_count": 4,
   "id": "0fb11aae-34f7-4f5b-b1d7-8feb1739c6d1",
   "metadata": {},
   "outputs": [
    {
     "name": "stdin",
     "output_type": "stream",
     "text": [
      "Enter any number:  8\n"
     ]
    },
    {
     "name": "stdout",
     "output_type": "stream",
     "text": [
      "8\n",
      "7\n",
      "6\n",
      "5\n",
      "4\n",
      "3\n",
      "2\n",
      "1\n",
      "0\n",
      "Loop Stopped\n"
     ]
    }
   ],
   "source": [
    "num = int(input(\"Enter any number: \"))\n",
    "while num>=0:\n",
    "    print(num)\n",
    "    num = num-1\n",
    "else:\n",
    "    print(\"Loop Stopped\")\n",
    "    \n"
   ]
  },
  {
   "cell_type": "markdown",
   "id": "3aa3283a-4205-420d-b3c5-227c66e037e2",
   "metadata": {},
   "source": [
    "\n",
    "#### While Loop in List"
   ]
  },
  {
   "cell_type": "code",
   "execution_count": 4,
   "id": "67e55310-e5d5-46f5-b5be-01c3498563f4",
   "metadata": {},
   "outputs": [],
   "source": [
    "#while loop  list\n",
    "l1=[1,2,3,4,5]\n"
   ]
  },
  {
   "cell_type": "code",
   "execution_count": 5,
   "id": "4eee98e2-441e-4889-99fa-f2c245733189",
   "metadata": {},
   "outputs": [],
   "source": [
    "i=0"
   ]
  },
  {
   "cell_type": "code",
   "execution_count": 6,
   "id": "089efc7b-3a68-4e8f-a233-3669580ce57a",
   "metadata": {},
   "outputs": [],
   "source": [
    "while i<len(l1):\n",
    "    l1[i]=l1[i]+100\n",
    "    i=i+1"
   ]
  },
  {
   "cell_type": "code",
   "execution_count": 7,
   "id": "2f3c9615-f02c-4bf3-ad10-80710646defd",
   "metadata": {},
   "outputs": [
    {
     "data": {
      "text/plain": [
       "[101, 102, 103, 104, 105]"
      ]
     },
     "execution_count": 7,
     "metadata": {},
     "output_type": "execute_result"
    }
   ],
   "source": [
    "l1"
   ]
  },
  {
   "cell_type": "code",
   "execution_count": 8,
   "id": "eaa06b62-5e7c-4a63-9f30-59a70154c509",
   "metadata": {},
   "outputs": [],
   "source": [
    "i=0"
   ]
  },
  {
   "cell_type": "markdown",
   "id": "df3defd2-bb23-4253-8c1b-8d35c079dab1",
   "metadata": {},
   "source": [
    "### For Loop"
   ]
  },
  {
   "cell_type": "code",
   "execution_count": 9,
   "id": "b9700c3e-3cef-4e79-9281-9fc5525adfe9",
   "metadata": {},
   "outputs": [
    {
     "name": "stdin",
     "output_type": "stream",
     "text": [
      "Enter your name:  wajiha\n"
     ]
    },
    {
     "name": "stdout",
     "output_type": "stream",
     "text": [
      "w\n",
      "a\n",
      "j\n",
      "i\n",
      "h\n",
      "a\n"
     ]
    }
   ],
   "source": [
    "name = str(input(\"Enter your name: \"))\n",
    "for character in name :\n",
    "    print(character)"
   ]
  },
  {
   "cell_type": "markdown",
   "id": "5629766e-26ba-4905-96f1-ed2165930265",
   "metadata": {},
   "source": [
    "#### For Loop and if condition"
   ]
  },
  {
   "cell_type": "code",
   "execution_count": 10,
   "id": "8b4144e5-7be2-4393-985d-b8bd273fbc27",
   "metadata": {},
   "outputs": [
    {
     "name": "stdin",
     "output_type": "stream",
     "text": [
      "Enter your name:  wajiha\n"
     ]
    },
    {
     "name": "stdout",
     "output_type": "stream",
     "text": [
      "w\n",
      "a\n",
      "It an A\n",
      "j\n",
      "i\n",
      "h\n",
      "a\n",
      "It an A\n"
     ]
    }
   ],
   "source": [
    "name = str(input(\"Enter your name: \"))\n",
    "for character in name :\n",
    "    print(character)\n",
    "    if character =='a':\n",
    "        print (\"It an A\")"
   ]
  },
  {
   "cell_type": "markdown",
   "id": "f5446c03-fc77-4b5f-92ee-e510c307d317",
   "metadata": {},
   "source": [
    "#### For Loop with range"
   ]
  },
  {
   "cell_type": "code",
   "execution_count": 11,
   "id": "49059ade-e281-4932-9bb9-bf0e2320483a",
   "metadata": {},
   "outputs": [
    {
     "name": "stdout",
     "output_type": "stream",
     "text": [
      "1\n",
      "2\n",
      "3\n",
      "4\n",
      "5\n",
      "            \n",
      "1\n",
      "2\n",
      "3\n",
      "4\n",
      "5\n",
      "6\n",
      "7\n",
      "8\n",
      "9\n",
      "10\n",
      "11\n",
      "12\n",
      "13\n",
      "14\n"
     ]
    }
   ],
   "source": [
    "for k in range(5) :\n",
    "        print(k+1)\n",
    "        \n",
    "print(\"            \")\n",
    "# upper and lower limit of range specified\n",
    "for k in range(1,15) :\n",
    "        print(k)\n",
    "\n",
    "#upper limit is not included\n"
   ]
  },
  {
   "cell_type": "markdown",
   "id": "90480b20-8e88-407e-be7a-564cbf569721",
   "metadata": {},
   "source": [
    "#### For Loop with range excluding the multiples of specific number"
   ]
  },
  {
   "cell_type": "code",
   "execution_count": 12,
   "id": "651b3073-456a-4f66-8879-956353de9314",
   "metadata": {},
   "outputs": [
    {
     "name": "stdout",
     "output_type": "stream",
     "text": [
      "multiples of 3 to be excluded\n",
      "1\n",
      "4\n",
      "7\n",
      "10\n",
      "13\n",
      "multiples of 2 to be excluded\n",
      "5\n",
      "7\n",
      "9\n",
      "11\n",
      "13\n",
      "15\n",
      "17\n",
      "19\n",
      "21\n",
      "23\n",
      "25\n"
     ]
    }
   ],
   "source": [
    "print(\"multiples of 3 to be excluded\")\n",
    "\n",
    "# upper and lower limit of range specified 1 & 15\n",
    "#multiples of 3 to be excluded\n",
    "for k in range(1,15 , 3) :\n",
    "        print(k)\n",
    "\n",
    "#upper limit is not included\n",
    "\n",
    "print(\"multiples of 2 to be excluded\")\n",
    "# upper and lower limit of range specified 5 & 27\n",
    "#multiples of 2 to be excluded\n",
    "for k in range(5,27 , 2) :\n",
    "        print(k)\n",
    "\n",
    "#upper limit is not included\n"
   ]
  },
  {
   "cell_type": "markdown",
   "id": "9f5a1302-42f5-43d1-980a-d4ba3bfd2272",
   "metadata": {},
   "source": [
    "#### For Loop in List"
   ]
  },
  {
   "cell_type": "code",
   "execution_count": 13,
   "id": "cf25b140-66af-47f8-8565-88b23dfe72a9",
   "metadata": {},
   "outputs": [
    {
     "name": "stdout",
     "output_type": "stream",
     "text": [
      "apple\n",
      "a\n",
      "p\n",
      "p\n",
      "l\n",
      "e\n",
      "banana\n",
      "b\n",
      "a\n",
      "n\n",
      "a\n",
      "n\n",
      "a\n",
      "mango\n",
      "m\n",
      "a\n",
      "n\n",
      "g\n",
      "o\n"
     ]
    }
   ],
   "source": [
    "l1=[\"apple\", 'banana', 'mango']\n",
    "for fruit in l1 :\n",
    "        print(fruit)\n",
    "        for i in fruit:\n",
    "            print(i)\n",
    "    "
   ]
  },
  {
   "cell_type": "markdown",
   "id": "9d1988ee-416a-46be-95e2-b35ed6096328",
   "metadata": {},
   "source": [
    "#### Nested For"
   ]
  },
  {
   "cell_type": "code",
   "execution_count": 14,
   "id": "0f381878-e1c8-4f84-a91f-00f94466063c",
   "metadata": {},
   "outputs": [],
   "source": [
    "l2=[\"red\",\"yellow\", \"green\", \"pink\"]"
   ]
  },
  {
   "cell_type": "code",
   "execution_count": 15,
   "id": "29babc33-4a5f-44b4-b16d-4ecbf59995d8",
   "metadata": {},
   "outputs": [
    {
     "name": "stdout",
     "output_type": "stream",
     "text": [
      "red apple\n",
      "yellow apple\n",
      "green apple\n",
      "pink apple\n",
      "red banana\n",
      "yellow banana\n",
      "green banana\n",
      "pink banana\n",
      "red mango\n",
      "yellow mango\n",
      "green mango\n",
      "pink mango\n"
     ]
    }
   ],
   "source": [
    "for i in l1:\n",
    "    for j in l2:\n",
    "        print (j ,i)"
   ]
  },
  {
   "cell_type": "markdown",
   "id": "8e9cf102-f829-42e7-9e33-3830e27653c2",
   "metadata": {},
   "source": [
    "### Do- While loop"
   ]
  },
  {
   "cell_type": "code",
   "execution_count": 46,
   "id": "8db08fb6-f656-4e75-8d17-7c092bd3047c",
   "metadata": {},
   "outputs": [
    {
     "name": "stdin",
     "output_type": "stream",
     "text": [
      "Enter a number:  21\n"
     ]
    },
    {
     "name": "stdout",
     "output_type": "stream",
     "text": [
      "21\n",
      "Exit the loop\n"
     ]
    }
   ],
   "source": [
    "#there is no do while loop in python but is used by modification of while loop \n",
    "i=int(input(\"Enter a number: \"))\n",
    "while True:\n",
    "    print(i)\n",
    "    i=i+1\n",
    "    if  i > 20:\n",
    "        print(\"Exit the loop\")\n",
    "        break\n",
    "    \n"
   ]
  },
  {
   "cell_type": "markdown",
   "id": "7e780473-7ac6-468e-b602-d7c712884832",
   "metadata": {
    "jp-MarkdownHeadingCollapsed": true
   },
   "source": [
    "### Break and Continue"
   ]
  },
  {
   "cell_type": "markdown",
   "id": "0a7ff2eb-96dd-49d5-a929-e1e885e601e3",
   "metadata": {},
   "source": [
    "#### Break"
   ]
  },
  {
   "cell_type": "code",
   "execution_count": 41,
   "id": "6c33951c-57aa-4429-9577-6b5e1fd82205",
   "metadata": {},
   "outputs": [
    {
     "name": "stdin",
     "output_type": "stream",
     "text": [
      "Enter your name:  wajiha\n"
     ]
    },
    {
     "name": "stdout",
     "output_type": "stream",
     "text": [
      "w\n"
     ]
    }
   ],
   "source": [
    "#break statement exit  the loop on the desired condition\n",
    "\n",
    "name = str(input(\"Enter your name: \"))\n",
    "for character in name :\n",
    "    if character ==\"a\":\n",
    "        break\n",
    "    print(character)"
   ]
  },
  {
   "cell_type": "markdown",
   "id": "b88aca8a-8a08-42fc-9593-d67648b733cf",
   "metadata": {},
   "source": [
    "#### Continue"
   ]
  },
  {
   "cell_type": "code",
   "execution_count": 40,
   "id": "83b4a00a-1f62-45e0-8ac7-3c00eb7c2b72",
   "metadata": {},
   "outputs": [
    {
     "name": "stdin",
     "output_type": "stream",
     "text": [
      "Enter your name:  Wajiha\n"
     ]
    },
    {
     "name": "stdout",
     "output_type": "stream",
     "text": [
      "W\n",
      "j\n",
      "i\n",
      "h\n"
     ]
    }
   ],
   "source": [
    "#continue statement skip the condition and continue the loop\n",
    "\n",
    "name = str(input(\"Enter your name: \"))\n",
    "for character in name :\n",
    "    if character ==\"a\":\n",
    "        continue\n",
    "    print(character)"
   ]
  }
 ],
 "metadata": {
  "kernelspec": {
   "display_name": "Python 3 (ipykernel)",
   "language": "python",
   "name": "python3"
  },
  "language_info": {
   "codemirror_mode": {
    "name": "ipython",
    "version": 3
   },
   "file_extension": ".py",
   "mimetype": "text/x-python",
   "name": "python",
   "nbconvert_exporter": "python",
   "pygments_lexer": "ipython3",
   "version": "3.11.7"
  }
 },
 "nbformat": 4,
 "nbformat_minor": 5
}
