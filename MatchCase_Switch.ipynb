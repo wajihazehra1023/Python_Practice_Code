{
 "cells": [
  {
   "cell_type": "markdown",
   "id": "4f1de184-6e39-4166-b41a-01e68ddfa0d6",
   "metadata": {},
   "source": [
    "# Switch Case"
   ]
  },
  {
   "cell_type": "code",
   "execution_count": 20,
   "id": "85275fea-cd47-4478-a069-3d773c37f0f8",
   "metadata": {},
   "outputs": [
    {
     "name": "stdin",
     "output_type": "stream",
     "text": [
      "Press the button: \n",
      " (1,2,3)  3\n"
     ]
    },
    {
     "name": "stdout",
     "output_type": "stream",
     "text": [
      "Three\n"
     ]
    }
   ],
   "source": [
    "#basic program using match case\n",
    "button= int(input(\"Press the button: \\n (1,2,3) \"))\n",
    "           # Match Case\n",
    "match button:\n",
    "    case 1:\n",
    "        print(\"One\")\n",
    "        \n",
    "    case 2:\n",
    "        print(\"Two\")\n",
    "        \n",
    "    case 3:\n",
    "        print(\"Three\")\n",
    "\n",
    "        "
   ]
  },
  {
   "cell_type": "markdown",
   "id": "26389fbe-5632-407a-94a3-8aafc3850606",
   "metadata": {},
   "source": [
    "### Using if statement in Match Case"
   ]
  },
  {
   "cell_type": "code",
   "execution_count": 18,
   "id": "a2334501-2df8-407f-8e43-cd59a6eab6e3",
   "metadata": {},
   "outputs": [
    {
     "name": "stdin",
     "output_type": "stream",
     "text": [
      "Enter Age:  18\n"
     ]
    },
    {
     "name": "stdout",
     "output_type": "stream",
     "text": [
      "Eligible to Vote\n"
     ]
    }
   ],
   "source": [
    "#Eligibity to Vote\n",
    "age= int(input(\"Enter Age: \"))\n",
    "           # Match Case\n",
    "match age:\n",
    "    case _ if age>=18:\n",
    "        print(\"Eligible to Vote\")\n",
    "    case _ if age<18:\n",
    "        print(\"Not ELigible\")\n",
    "    case _ if age<0:\n",
    "        print(\"Invalid Age\")\n",
    "\n",
    "# case _ is degfault case\n",
    "\n",
    "        "
   ]
  },
  {
   "cell_type": "markdown",
   "id": "3f84ebec-20d9-4a2c-980a-1f0b62ec89c4",
   "metadata": {},
   "source": [
    "### Using String in MatchCase"
   ]
  },
  {
   "cell_type": "code",
   "execution_count": 21,
   "id": "b675064c-fd7f-4dc1-8393-f63f4e08b800",
   "metadata": {},
   "outputs": [
    {
     "name": "stdin",
     "output_type": "stream",
     "text": [
      "Your Language: (English , Urdu , Pushto)  English\n"
     ]
    },
    {
     "name": "stdout",
     "output_type": "stream",
     "text": [
      "Hello\n"
     ]
    }
   ],
   "source": [
    "#Greeting in choosen language\n",
    "lang= str(input(\"Your Language: (English , Urdu , Pushto) \"))\n",
    "           # Match Case\n",
    "match lang:\n",
    "    case \"English\":\n",
    "        print(\"Hello\")\n",
    "        \n",
    "    case \"Urdu\":\n",
    "        print(\"Asalamualikum\")\n",
    "        \n",
    "    case Pushto:\n",
    "        print(\"Pakher Ragaky\")\n",
    "# case _ is degfault case\n",
    "\n",
    "        "
   ]
  },
  {
   "cell_type": "code",
   "execution_count": null,
   "id": "f9bbe27d-1f59-4858-999e-95ac3014025b",
   "metadata": {},
   "outputs": [],
   "source": []
  }
 ],
 "metadata": {
  "kernelspec": {
   "display_name": "Python 3 (ipykernel)",
   "language": "python",
   "name": "python3"
  },
  "language_info": {
   "codemirror_mode": {
    "name": "ipython",
    "version": 3
   },
   "file_extension": ".py",
   "mimetype": "text/x-python",
   "name": "python",
   "nbconvert_exporter": "python",
   "pygments_lexer": "ipython3",
   "version": "3.11.7"
  }
 },
 "nbformat": 4,
 "nbformat_minor": 5
}
