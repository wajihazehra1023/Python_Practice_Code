{
 "cells": [
  {
   "cell_type": "markdown",
   "id": "56bd8eb6-25ab-496a-ba2c-ea9f782a9ef1",
   "metadata": {},
   "source": [
    "# If - else Statements\n",
    ">#### Conditions in Basic Python\n",
    ">#### Conditions in tuples\n",
    ">#### Conditions in lists\n",
    ">#### Conditions in dictionary\n"
   ]
  },
  {
   "cell_type": "markdown",
   "id": "6dfb760b-34c7-4879-b887-9fd6081f3ff4",
   "metadata": {},
   "source": [
    "### Conditions in Basic Python"
   ]
  },
  {
   "cell_type": "code",
   "execution_count": 5,
   "id": "84bf04b8-e7ea-4de0-bd61-2ec30c52eced",
   "metadata": {},
   "outputs": [
    {
     "name": "stdout",
     "output_type": "stream",
     "text": [
      "b is greater than a\n"
     ]
    }
   ],
   "source": [
    "#relation between two numbers\n",
    "\n",
    "a=30\n",
    "b=40\n",
    "\n",
    "if a > b:\n",
    "    print(\"a is greater than b\")\n",
    "else:\n",
    "    print(\"b is greater than a\")"
   ]
  },
  {
   "cell_type": "code",
   "execution_count": 6,
   "id": "d55d0fad-42ec-46d8-9963-d9f53f13df4c",
   "metadata": {},
   "outputs": [
    {
     "name": "stdout",
     "output_type": "stream",
     "text": [
      "c is largest\n"
     ]
    }
   ],
   "source": [
    "#Largest Number\n",
    "a=30\n",
    "b=40\n",
    "c=50\n",
    "if a<b & b<c:\n",
    "    print(\"c is largest\")\n",
    "elif a<b & b>c:\n",
    "    print(\"b is largest\")\n",
    "else:\n",
    "    print(\"a is largest\")"
   ]
  },
  {
   "cell_type": "markdown",
   "id": "b33c4d47-e62b-430e-9baf-b71956e0746b",
   "metadata": {},
   "source": [
    "### Condtion in Tuples"
   ]
  },
  {
   "cell_type": "code",
   "execution_count": 7,
   "id": "2c95cf4e-3815-4425-a157-2ead2e0ec717",
   "metadata": {},
   "outputs": [
    {
     "name": "stdout",
     "output_type": "stream",
     "text": [
      "Wajiha is present\n"
     ]
    }
   ],
   "source": [
    "#if in tuple\n",
    "tup1=(1,'Wajiha', \"Rehan\", 1, 5, True )\n",
    "if 'Wajiha' in tup1:\n",
    "    print(\"Wajiha is present\")\n",
    "else:\n",
    "    print(\"Wajiha is not present\")\n"
   ]
  },
  {
   "cell_type": "markdown",
   "id": "c1ec4a47-1e28-4c39-a8e3-fd447241d13f",
   "metadata": {},
   "source": [
    "### Condition in List"
   ]
  },
  {
   "cell_type": "code",
   "execution_count": 8,
   "id": "0f399245-6099-4b40-ab2d-6ffa5facb1ea",
   "metadata": {},
   "outputs": [
    {
     "name": "stdout",
     "output_type": "stream",
     "text": [
      "valueis 2\n"
     ]
    }
   ],
   "source": [
    "#ifesle in list\n",
    "l1=[1,2,3,'a', 'Wajiha']\n",
    "if l1[1]==3:\n",
    "    print(\"value is three\")\n",
    "elif l1[1]==2:\n",
    "    print(\"valueis 2\")\n",
    "else: \n",
    "    print(\"error\")"
   ]
  },
  {
   "cell_type": "markdown",
   "id": "85b517c7-918f-471f-996d-d0e8749fc901",
   "metadata": {},
   "source": [
    "### Condition in Dictionary"
   ]
  },
  {
   "cell_type": "code",
   "execution_count": 22,
   "id": "1f48594a-f254-4143-a0fc-2b882e7769c5",
   "metadata": {},
   "outputs": [],
   "source": [
    "#if else in dictionary\n",
    "d1={'Apple':500, 'Orange':300, 'Strawberry': 600}\n",
    "if d1[\"Orange\"]==300:\n",
    "    d1[\"Orange\"]=d1[\"Orange\"]+1000\n",
    "    "
   ]
  },
  {
   "cell_type": "code",
   "execution_count": 23,
   "id": "bff3bb9e-bdfb-4500-a996-7c39c5a6772b",
   "metadata": {},
   "outputs": [
    {
     "data": {
      "text/plain": [
       "{'Apple': 500, 'Orange': 1300, 'Strawberry': 600}"
      ]
     },
     "execution_count": 23,
     "metadata": {},
     "output_type": "execute_result"
    }
   ],
   "source": [
    "d1"
   ]
  },
  {
   "cell_type": "code",
   "execution_count": null,
   "id": "9fdb8b22-5daf-4b8e-8f19-106d025ed38c",
   "metadata": {},
   "outputs": [],
   "source": []
  }
 ],
 "metadata": {
  "kernelspec": {
   "display_name": "Python 3 (ipykernel)",
   "language": "python",
   "name": "python3"
  },
  "language_info": {
   "codemirror_mode": {
    "name": "ipython",
    "version": 3
   },
   "file_extension": ".py",
   "mimetype": "text/x-python",
   "name": "python",
   "nbconvert_exporter": "python",
   "pygments_lexer": "ipython3",
   "version": "3.11.7"
  }
 },
 "nbformat": 4,
 "nbformat_minor": 5
}
