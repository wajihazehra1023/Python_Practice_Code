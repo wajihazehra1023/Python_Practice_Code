{
 "cells": [
  {
   "cell_type": "markdown",
   "id": "74720ca2-13ce-4764-9600-a6be0501bfc5",
   "metadata": {},
   "source": [
    "## Split Fuction"
   ]
  },
  {
   "cell_type": "code",
   "execution_count": 17,
   "id": "64df9939-e76e-40ed-a8e3-ce3250e2a82c",
   "metadata": {},
   "outputs": [
    {
     "name": "stdin",
     "output_type": "stream",
     "text": [
      "Enter your Email Address:  wajihazehra1023@gmail.com\n"
     ]
    },
    {
     "name": "stdout",
     "output_type": "stream",
     "text": [
      "gmail.com\n"
     ]
    }
   ],
   "source": [
    "#Extracting the domain from Email address\n",
    "\n",
    "Email = str(input(\"Enter your Email Address: \" ))\n",
    "\n",
    "Domain=Email.split('@')[1]\n",
    "print(Domain)"
   ]
  },
  {
   "cell_type": "code",
   "execution_count": 19,
   "id": "de44c0ef-f84f-4802-82e5-b1e19f7126b8",
   "metadata": {},
   "outputs": [
    {
     "name": "stdin",
     "output_type": "stream",
     "text": [
      "Enter your Email Address:  wajihazehra1023@gmail.com\n"
     ]
    },
    {
     "name": "stdout",
     "output_type": "stream",
     "text": [
      "wajihazehra1023\n"
     ]
    }
   ],
   "source": [
    "#Extracting the Username from Email address\n",
    "\n",
    "Email = str(input(\"Enter your Email Address: \" ))\n",
    "\n",
    "Username=Email.split('@')[0]\n",
    "print(Username)"
   ]
  },
  {
   "cell_type": "code",
   "execution_count": null,
   "id": "49df58b8-27cf-4fad-87e1-9bbd8202ad9e",
   "metadata": {},
   "outputs": [],
   "source": []
  }
 ],
 "metadata": {
  "kernelspec": {
   "display_name": "Python 3 (ipykernel)",
   "language": "python",
   "name": "python3"
  },
  "language_info": {
   "codemirror_mode": {
    "name": "ipython",
    "version": 3
   },
   "file_extension": ".py",
   "mimetype": "text/x-python",
   "name": "python",
   "nbconvert_exporter": "python",
   "pygments_lexer": "ipython3",
   "version": "3.11.7"
  }
 },
 "nbformat": 4,
 "nbformat_minor": 5
}
